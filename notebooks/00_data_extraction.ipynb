{
 "cells": [
  {
   "cell_type": "markdown",
   "id": "ec188c4f",
   "metadata": {},
   "source": [
    "# Imports"
   ]
  },
  {
   "cell_type": "code",
   "execution_count": 1,
   "id": "b01be158",
   "metadata": {},
   "outputs": [],
   "source": [
    "import feedparser\n",
    "import pandas as pd\n",
    "import re\n",
    "import nltk\n",
    "from sklearn.feature_extraction.text import TfidfVectorizer\n",
    "from sklearn.linear_model import LogisticRegression\n",
    "from sklearn.model_selection import train_test_split\n",
    "from sklearn.metrics import classification_report\n",
    "import joblib\n",
    "from nltk.corpus import stopwords\n",
    "from nltk.stem import WordNetLemmatizer"
   ]
  },
  {
   "cell_type": "markdown",
   "id": "be73ac9a",
   "metadata": {},
   "source": [
    "# Step 1 - Data set extraction"
   ]
  },
  {
   "cell_type": "code",
   "execution_count": 2,
   "id": "d9eaead3",
   "metadata": {},
   "outputs": [],
   "source": [
    "rss_dict = {\n",
    "    'WaronTheRocks': 'https://warontherocks.com/feed/',\n",
    "    'BreakingDefense': 'https://breakingdefense.com/full-rss-feed/?v=2',\n",
    "    'DefenseOne': 'https://www.defenseone.com/rss/all/',\n",
    "    'TheDrive': 'https://www.thedrive.com/rss',\n",
    "    'MilitaryTimes': 'https://www.militarytimes.com/rss/',\n",
    "    'TheNationalInterest': 'https://nationalinterest.org/rss.xml',\n",
    "    'TheNewYorkTimes': 'https://rss.nytimes.com/services/xml/rss/nyt/HomePage.xml',\n",
    "    'DefencePost': 'https://thedefensepost.com/feed/',\n",
    "    'TheEconomist': 'https://www.economist.com/sections/international/rss',\n",
    "    'BBC': 'http://feeds.bbci.co.uk/news/world/rss.xml',\n",
    "    'CNN': 'http://rss.cnn.com/rss/edition_world.rss',\n",
    "    'TheGuardian': 'https://www.theguardian.com/world/rss',\n",
    "}\n"
   ]
  },
  {
   "cell_type": "code",
   "execution_count": 3,
   "id": "3139a595",
   "metadata": {},
   "outputs": [
    {
     "name": "stdout",
     "output_type": "stream",
     "text": [
      "\n",
      "Parsing feed from WaronTheRocks...\n",
      "✅ Found 100 entries.\n",
      "\n",
      "Parsing feed from BreakingDefense...\n",
      "✅ Found 30 entries.\n",
      "\n",
      "Parsing feed from DefenseOne...\n",
      "✅ Found 24 entries.\n",
      "\n",
      "Parsing feed from TheDrive...\n",
      "✅ Found 61 entries.\n",
      "\n",
      "Parsing feed from MilitaryTimes...\n",
      "⚠️ No entries found or feed is malformed.\n",
      "\n",
      "Parsing feed from TheNationalInterest...\n",
      "⚠️ No entries found or feed is malformed.\n",
      "\n",
      "Parsing feed from TheNewYorkTimes...\n",
      "✅ Found 26 entries.\n",
      "\n",
      "Parsing feed from DefencePost...\n",
      "✅ Found 10 entries.\n",
      "\n",
      "Parsing feed from TheEconomist...\n",
      "⚠️ No entries found or feed is malformed.\n",
      "\n",
      "Parsing feed from BBC...\n",
      "✅ Found 23 entries.\n",
      "\n",
      "Parsing feed from CNN...\n",
      "✅ Found 29 entries.\n",
      "\n",
      "Parsing feed from TheGuardian...\n",
      "✅ Found 45 entries.\n",
      "\n",
      "🔎 Total articles collected: 348\n"
     ]
    },
    {
     "data": {
      "application/vnd.microsoft.datawrangler.viewer.v0+json": {
       "columns": [
        {
         "name": "index",
         "rawType": "int64",
         "type": "integer"
        },
        {
         "name": "title",
         "rawType": "object",
         "type": "string"
        },
        {
         "name": "link",
         "rawType": "object",
         "type": "string"
        },
        {
         "name": "published",
         "rawType": "object",
         "type": "string"
        },
        {
         "name": "summary",
         "rawType": "object",
         "type": "string"
        },
        {
         "name": "source",
         "rawType": "object",
         "type": "string"
        },
        {
         "name": "text",
         "rawType": "object",
         "type": "string"
        }
       ],
       "ref": "9465c7dc-0e14-4c90-8e66-148ff6f2201c",
       "rows": [
        [
         "0",
         "How Iran Overplayed its Hand",
         "https://warontherocks.com/2025/07/how-iran-overplayed-its-hand/",
         "Mon, 14 Jul 2025 07:30:27 +0000",
         "<p>After Israel struck Iran&#8217;s nuclear facilities, there were good reasons to be skeptical about the official justification for launching the operation. After all, Israeli Prime Minister Benjamin Netanyahu has a decades-long history of crying wolf about the &#8220;imminent threat&#8221; of Iran pursuing nuclear weapons. When Israel recently presented the United States with what was supposed to be new evidence of Iran&#8217;s sprint towards the bomb, American officials were less than convinced.Yet, every skeptical voice ultimately had to deal with what seemed to be the key question: Why else would Iran recently produce such large stocks of highly enriched uranium, if</p>\n<p>The post <a href=\"https://warontherocks.com/2025/07/how-iran-overplayed-its-hand/\" rel=\"nofollow\">How Iran Overplayed its Hand</a> appeared first on <a href=\"https://warontherocks.com\" rel=\"nofollow\">War on the Rocks</a>.</p>",
         "WaronTheRocks",
         "How Iran Overplayed its Hand <p>After Israel struck Iran&#8217;s nuclear facilities, there were good reasons to be skeptical about the official justification for launching the operation. After all, Israeli Prime Minister Benjamin Netanyahu has a decades-long history of crying wolf about the &#8220;imminent threat&#8221; of Iran pursuing nuclear weapons. When Israel recently presented the United States with what was supposed to be new evidence of Iran&#8217;s sprint towards the bomb, American officials were less than convinced.Yet, every skeptical voice ultimately had to deal with what seemed to be the key question: Why else would Iran recently produce such large stocks of highly enriched uranium, if</p>\n<p>The post <a href=\"https://warontherocks.com/2025/07/how-iran-overplayed-its-hand/\" rel=\"nofollow\">How Iran Overplayed its Hand</a> appeared first on <a href=\"https://warontherocks.com\" rel=\"nofollow\">War on the Rocks</a>.</p>"
        ],
        [
         "1",
         "Small State, Big Stakes: The Maldives and Strategic Competition in the Indian Ocean",
         "https://warontherocks.com/2025/07/small-state-big-stakes-the-maldives-and-strategic-competition-in-the-indian-ocean/",
         "Mon, 14 Jul 2025 07:15:02 +0000",
         "<p>Located at the crossroads of vital Indian Ocean shipping lanes linking the Middle East and Asia, the Maldives has emerged as an unlikely but increasingly important foothold in Indo-Pacific strategic rivalry. Despite having less than 600,000 residents and limited naval capacity, the country&#8217;s geographic position, economic ambition, and diplomatic agility have made it a valuable partner for major powers. Mal&#233; is attempting to actively shape its strategic environment by securing investments, courting diverse partnerships, and raising its regional profile. For China, India, the United States, and others, access to Maldivian territory or association with its leadership enhances their ability to</p>\n<p>The post <a href=\"https://warontherocks.com/2025/07/small-state-big-stakes-the-maldives-and-strategic-competition-in-the-indian-ocean/\" rel=\"nofollow\">Small State, Big Stakes: The Maldives and Strategic Competition in the Indian Ocean</a> appeared first on <a href=\"https://warontherocks.com\" rel=\"nofollow\">War on the Rocks</a>.</p>",
         "WaronTheRocks",
         "Small State, Big Stakes: The Maldives and Strategic Competition in the Indian Ocean <p>Located at the crossroads of vital Indian Ocean shipping lanes linking the Middle East and Asia, the Maldives has emerged as an unlikely but increasingly important foothold in Indo-Pacific strategic rivalry. Despite having less than 600,000 residents and limited naval capacity, the country&#8217;s geographic position, economic ambition, and diplomatic agility have made it a valuable partner for major powers. Mal&#233; is attempting to actively shape its strategic environment by securing investments, courting diverse partnerships, and raising its regional profile. For China, India, the United States, and others, access to Maldivian territory or association with its leadership enhances their ability to</p>\n<p>The post <a href=\"https://warontherocks.com/2025/07/small-state-big-stakes-the-maldives-and-strategic-competition-in-the-indian-ocean/\" rel=\"nofollow\">Small State, Big Stakes: The Maldives and Strategic Competition in the Indian Ocean</a> appeared first on <a href=\"https://warontherocks.com\" rel=\"nofollow\">War on the Rocks</a>.</p>"
        ],
        [
         "2",
         "Toward a New Grand Design? Reviving Sully’s Legacy in European Strategic Thought",
         "https://warontherocks.com/2025/07/toward-a-new-grand-design-reviving-sullys-legacy-in-european-strategic-thought/",
         "Fri, 11 Jul 2025 07:30:53 +0000",
         "<p>Editor&#8217;s Note: This is part of a running series of essays by Iskander Rehman, entitled &#8220;Applied History,&#8221; which seeks, through the study of the history of strategy and military operations, to better illuminate contemporary defense challenges.We need not waste our time in disputes about who originated this idea of United Europe. There are many valid modern patents. There are many famous names associated with the revival and presentation of this idea, but we may all, I think, yield our pretensions to Henry Navarre, King of France, who, with his great Minister Sully, between the years 1600 and 1607, labored to</p>\n<p>The post <a href=\"https://warontherocks.com/2025/07/toward-a-new-grand-design-reviving-sullys-legacy-in-european-strategic-thought/\" rel=\"nofollow\">Toward a New Grand Design? Reviving Sully’s Legacy in European Strategic Thought</a> appeared first on <a href=\"https://warontherocks.com\" rel=\"nofollow\">War on the Rocks</a>.</p>",
         "WaronTheRocks",
         "Toward a New Grand Design? Reviving Sully’s Legacy in European Strategic Thought <p>Editor&#8217;s Note: This is part of a running series of essays by Iskander Rehman, entitled &#8220;Applied History,&#8221; which seeks, through the study of the history of strategy and military operations, to better illuminate contemporary defense challenges.We need not waste our time in disputes about who originated this idea of United Europe. There are many valid modern patents. There are many famous names associated with the revival and presentation of this idea, but we may all, I think, yield our pretensions to Henry Navarre, King of France, who, with his great Minister Sully, between the years 1600 and 1607, labored to</p>\n<p>The post <a href=\"https://warontherocks.com/2025/07/toward-a-new-grand-design-reviving-sullys-legacy-in-european-strategic-thought/\" rel=\"nofollow\">Toward a New Grand Design? Reviving Sully’s Legacy in European Strategic Thought</a> appeared first on <a href=\"https://warontherocks.com\" rel=\"nofollow\">War on the Rocks</a>.</p>"
        ],
        [
         "3",
         "Consequences Unfold",
         "https://warontherocks.com/2025/07/consequences-unfold/",
         "Thu, 10 Jul 2025 17:30:57 +0000",
         "<p>Welcome to The Adversarial.&#160;Every other week, we&#8217;ll provide you with expert analysis on America&#8217;s greatest challengers: China, Russia, Iran, North Korea, and jihadists. Read more below.***IranRelations between Iran&#8217;s government and the U.N. nuclear watchdog had been on a downward spiral even before last month&#8217;s Israeli and U.S. strikes against Iran&#8217;s nuclear program, and they have taken a turn for the worse since a ceasefire took effect. Over the years, Tehran has limited the International Atomic Energy Agency&#8217;s access and accused it of biased reporting but still allowed some degree of cooperation. However, following the attacks, Iran&#8217;s government quickly moved to</p>\n<p>The post <a href=\"https://warontherocks.com/2025/07/consequences-unfold/\" rel=\"nofollow\">Consequences Unfold</a> appeared first on <a href=\"https://warontherocks.com\" rel=\"nofollow\">War on the Rocks</a>.</p>",
         "WaronTheRocks",
         "Consequences Unfold <p>Welcome to The Adversarial.&#160;Every other week, we&#8217;ll provide you with expert analysis on America&#8217;s greatest challengers: China, Russia, Iran, North Korea, and jihadists. Read more below.***IranRelations between Iran&#8217;s government and the U.N. nuclear watchdog had been on a downward spiral even before last month&#8217;s Israeli and U.S. strikes against Iran&#8217;s nuclear program, and they have taken a turn for the worse since a ceasefire took effect. Over the years, Tehran has limited the International Atomic Energy Agency&#8217;s access and accused it of biased reporting but still allowed some degree of cooperation. However, following the attacks, Iran&#8217;s government quickly moved to</p>\n<p>The post <a href=\"https://warontherocks.com/2025/07/consequences-unfold/\" rel=\"nofollow\">Consequences Unfold</a> appeared first on <a href=\"https://warontherocks.com\" rel=\"nofollow\">War on the Rocks</a>.</p>"
        ],
        [
         "4",
         "China’s Mineral Monopoly Demands Renewing the Development Finance Corporation",
         "https://warontherocks.com/2025/07/chinas-mineral-monopoly-demands-renewing-the-development-finance-corporation/",
         "Thu, 10 Jul 2025 07:30:26 +0000",
         "<p>American auto manufacturers are preparing to shut down production lines. Defense manufacturers may not be far behind. The tit-for-tat tariff escalation between the United States and China dominated headlines throughout March and April, but the real escalation happened quietly. On April 4, Beijing restricted exports of seven rare earth elements and rare earth permanent magnets &#8212; key components in everything from automatic transmissions to missiles.China dominates the rare earth refining and magnet production processes, so the export restrictions jeopardize America&#8217;s ability to manufacture almost anything with moving parts. Civilian vehicles alone rely on these materials for motors, sensors, seat belts,</p>\n<p>The post <a href=\"https://warontherocks.com/2025/07/chinas-mineral-monopoly-demands-renewing-the-development-finance-corporation/\" rel=\"nofollow\">China&#8217;s Mineral Monopoly Demands Renewing the Development Finance Corporation</a> appeared first on <a href=\"https://warontherocks.com\" rel=\"nofollow\">War on the Rocks</a>.</p>",
         "WaronTheRocks",
         "China’s Mineral Monopoly Demands Renewing the Development Finance Corporation <p>American auto manufacturers are preparing to shut down production lines. Defense manufacturers may not be far behind. The tit-for-tat tariff escalation between the United States and China dominated headlines throughout March and April, but the real escalation happened quietly. On April 4, Beijing restricted exports of seven rare earth elements and rare earth permanent magnets &#8212; key components in everything from automatic transmissions to missiles.China dominates the rare earth refining and magnet production processes, so the export restrictions jeopardize America&#8217;s ability to manufacture almost anything with moving parts. Civilian vehicles alone rely on these materials for motors, sensors, seat belts,</p>\n<p>The post <a href=\"https://warontherocks.com/2025/07/chinas-mineral-monopoly-demands-renewing-the-development-finance-corporation/\" rel=\"nofollow\">China&#8217;s Mineral Monopoly Demands Renewing the Development Finance Corporation</a> appeared first on <a href=\"https://warontherocks.com\" rel=\"nofollow\">War on the Rocks</a>.</p>"
        ]
       ],
       "shape": {
        "columns": 6,
        "rows": 5
       }
      },
      "text/html": [
       "<div>\n",
       "<style scoped>\n",
       "    .dataframe tbody tr th:only-of-type {\n",
       "        vertical-align: middle;\n",
       "    }\n",
       "\n",
       "    .dataframe tbody tr th {\n",
       "        vertical-align: top;\n",
       "    }\n",
       "\n",
       "    .dataframe thead th {\n",
       "        text-align: right;\n",
       "    }\n",
       "</style>\n",
       "<table border=\"1\" class=\"dataframe\">\n",
       "  <thead>\n",
       "    <tr style=\"text-align: right;\">\n",
       "      <th></th>\n",
       "      <th>title</th>\n",
       "      <th>link</th>\n",
       "      <th>published</th>\n",
       "      <th>summary</th>\n",
       "      <th>source</th>\n",
       "      <th>text</th>\n",
       "    </tr>\n",
       "  </thead>\n",
       "  <tbody>\n",
       "    <tr>\n",
       "      <th>0</th>\n",
       "      <td>How Iran Overplayed its Hand</td>\n",
       "      <td>https://warontherocks.com/2025/07/how-iran-ove...</td>\n",
       "      <td>Mon, 14 Jul 2025 07:30:27 +0000</td>\n",
       "      <td>&lt;p&gt;After Israel struck Iran&amp;#8217;s nuclear fa...</td>\n",
       "      <td>WaronTheRocks</td>\n",
       "      <td>How Iran Overplayed its Hand &lt;p&gt;After Israel s...</td>\n",
       "    </tr>\n",
       "    <tr>\n",
       "      <th>1</th>\n",
       "      <td>Small State, Big Stakes: The Maldives and Stra...</td>\n",
       "      <td>https://warontherocks.com/2025/07/small-state-...</td>\n",
       "      <td>Mon, 14 Jul 2025 07:15:02 +0000</td>\n",
       "      <td>&lt;p&gt;Located at the crossroads of vital Indian O...</td>\n",
       "      <td>WaronTheRocks</td>\n",
       "      <td>Small State, Big Stakes: The Maldives and Stra...</td>\n",
       "    </tr>\n",
       "    <tr>\n",
       "      <th>2</th>\n",
       "      <td>Toward a New Grand Design? Reviving Sully’s Le...</td>\n",
       "      <td>https://warontherocks.com/2025/07/toward-a-new...</td>\n",
       "      <td>Fri, 11 Jul 2025 07:30:53 +0000</td>\n",
       "      <td>&lt;p&gt;Editor&amp;#8217;s Note: This is part of a runn...</td>\n",
       "      <td>WaronTheRocks</td>\n",
       "      <td>Toward a New Grand Design? Reviving Sully’s Le...</td>\n",
       "    </tr>\n",
       "    <tr>\n",
       "      <th>3</th>\n",
       "      <td>Consequences Unfold</td>\n",
       "      <td>https://warontherocks.com/2025/07/consequences...</td>\n",
       "      <td>Thu, 10 Jul 2025 17:30:57 +0000</td>\n",
       "      <td>&lt;p&gt;Welcome to The Adversarial.&amp;#160;Every othe...</td>\n",
       "      <td>WaronTheRocks</td>\n",
       "      <td>Consequences Unfold &lt;p&gt;Welcome to The Adversar...</td>\n",
       "    </tr>\n",
       "    <tr>\n",
       "      <th>4</th>\n",
       "      <td>China’s Mineral Monopoly Demands Renewing the ...</td>\n",
       "      <td>https://warontherocks.com/2025/07/chinas-miner...</td>\n",
       "      <td>Thu, 10 Jul 2025 07:30:26 +0000</td>\n",
       "      <td>&lt;p&gt;American auto manufacturers are preparing t...</td>\n",
       "      <td>WaronTheRocks</td>\n",
       "      <td>China’s Mineral Monopoly Demands Renewing the ...</td>\n",
       "    </tr>\n",
       "  </tbody>\n",
       "</table>\n",
       "</div>"
      ],
      "text/plain": [
       "                                               title  \\\n",
       "0                       How Iran Overplayed its Hand   \n",
       "1  Small State, Big Stakes: The Maldives and Stra...   \n",
       "2  Toward a New Grand Design? Reviving Sully’s Le...   \n",
       "3                                Consequences Unfold   \n",
       "4  China’s Mineral Monopoly Demands Renewing the ...   \n",
       "\n",
       "                                                link  \\\n",
       "0  https://warontherocks.com/2025/07/how-iran-ove...   \n",
       "1  https://warontherocks.com/2025/07/small-state-...   \n",
       "2  https://warontherocks.com/2025/07/toward-a-new...   \n",
       "3  https://warontherocks.com/2025/07/consequences...   \n",
       "4  https://warontherocks.com/2025/07/chinas-miner...   \n",
       "\n",
       "                         published  \\\n",
       "0  Mon, 14 Jul 2025 07:30:27 +0000   \n",
       "1  Mon, 14 Jul 2025 07:15:02 +0000   \n",
       "2  Fri, 11 Jul 2025 07:30:53 +0000   \n",
       "3  Thu, 10 Jul 2025 17:30:57 +0000   \n",
       "4  Thu, 10 Jul 2025 07:30:26 +0000   \n",
       "\n",
       "                                             summary         source  \\\n",
       "0  <p>After Israel struck Iran&#8217;s nuclear fa...  WaronTheRocks   \n",
       "1  <p>Located at the crossroads of vital Indian O...  WaronTheRocks   \n",
       "2  <p>Editor&#8217;s Note: This is part of a runn...  WaronTheRocks   \n",
       "3  <p>Welcome to The Adversarial.&#160;Every othe...  WaronTheRocks   \n",
       "4  <p>American auto manufacturers are preparing t...  WaronTheRocks   \n",
       "\n",
       "                                                text  \n",
       "0  How Iran Overplayed its Hand <p>After Israel s...  \n",
       "1  Small State, Big Stakes: The Maldives and Stra...  \n",
       "2  Toward a New Grand Design? Reviving Sully’s Le...  \n",
       "3  Consequences Unfold <p>Welcome to The Adversar...  \n",
       "4  China’s Mineral Monopoly Demands Renewing the ...  "
      ]
     },
     "execution_count": 3,
     "metadata": {},
     "output_type": "execute_result"
    }
   ],
   "source": [
    "def parse_feed(feed: feedparser.FeedParserDict) -> pd.DataFrame:   \n",
    "    data = []\n",
    "    for entry in feed.entries:\n",
    "        data.append({\n",
    "            'title': entry.get('title', ''),\n",
    "            'link': entry.get('link', ''),\n",
    "            'published': entry.get('published', ''),\n",
    "            'summary': entry.get('summary', '')\n",
    "        })\n",
    "    \n",
    "    return pd.DataFrame(data)\n",
    "\n",
    "def fetch_all_rss(urls: dict) -> pd.DataFrame:\n",
    "    \"\"\"Parses RSS feeds from the provided URLs and returns a concatenated DataFrame.\"\"\"\n",
    "    all_data = []\n",
    "\n",
    "    for source_name, source_url in urls.items():\n",
    "        print(f\"\\nParsing feed from {source_name}...\")\n",
    "        feed = feedparser.parse(source_url)\n",
    "\n",
    "        if 'entries' in feed and len(feed.entries) > 0:\n",
    "            print(f\"✅ Found {len(feed.entries)} entries.\")\n",
    "            df = parse_feed(feed)\n",
    "            df[\"source\"] = source_name \n",
    "            df[\"text\"] = df[\"title\"].fillna(\"\") + \" \" + df[\"summary\"].fillna(\"\")\n",
    "            all_data.append(df)\n",
    "        else:\n",
    "            print(\"⚠️ No entries found or feed is malformed.\")\n",
    "    \n",
    "    return pd.concat(all_data, ignore_index=True) if all_data else pd.DataFrame()\n",
    "\n",
    "# Run parsing\n",
    "df_all = fetch_all_rss(rss_dict)\n",
    "print(f\"\\n🔎 Total articles collected: {len(df_all)}\")\n",
    "df_all.head()\n",
    "\n",
    "\n"
   ]
  },
  {
   "cell_type": "code",
   "execution_count": 4,
   "id": "282ceaf4",
   "metadata": {},
   "outputs": [],
   "source": [
    "df_all.to_csv(\"../data/raw_rss.csv\", index=False)"
   ]
  }
 ],
 "metadata": {
  "kernelspec": {
   "display_name": "ml_env",
   "language": "python",
   "name": "python3"
  },
  "language_info": {
   "codemirror_mode": {
    "name": "ipython",
    "version": 3
   },
   "file_extension": ".py",
   "mimetype": "text/x-python",
   "name": "python",
   "nbconvert_exporter": "python",
   "pygments_lexer": "ipython3",
   "version": "3.10.18"
  }
 },
 "nbformat": 4,
 "nbformat_minor": 5
}
