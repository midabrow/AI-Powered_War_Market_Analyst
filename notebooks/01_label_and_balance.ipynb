{
 "cells": [
  {
   "cell_type": "markdown",
   "id": "ba43afbe",
   "metadata": {},
   "source": [
    "# Import"
   ]
  },
  {
   "cell_type": "code",
   "execution_count": 4,
   "id": "b3f00550",
   "metadata": {},
   "outputs": [],
   "source": [
    "import pandas as pd\n",
    "from sklearn.utils import resample\n",
    "import re"
   ]
  },
  {
   "cell_type": "markdown",
   "id": "8635c164",
   "metadata": {},
   "source": [
    "# Step 2 - Tagging data"
   ]
  },
  {
   "cell_type": "code",
   "execution_count": 6,
   "id": "f49aed1f",
   "metadata": {},
   "outputs": [
    {
     "data": {
      "application/vnd.microsoft.datawrangler.viewer.v0+json": {
       "columns": [
        {
         "name": "index",
         "rawType": "int64",
         "type": "integer"
        },
        {
         "name": "title",
         "rawType": "object",
         "type": "string"
        },
        {
         "name": "link",
         "rawType": "object",
         "type": "string"
        },
        {
         "name": "published",
         "rawType": "object",
         "type": "unknown"
        },
        {
         "name": "summary",
         "rawType": "object",
         "type": "unknown"
        },
        {
         "name": "source",
         "rawType": "object",
         "type": "string"
        },
        {
         "name": "text",
         "rawType": "object",
         "type": "string"
        }
       ],
       "ref": "f2b2d379-11a5-4a30-9192-f4e5da08ac6f",
       "rows": [
        [
         "0",
         "How Iran Overplayed its Hand",
         "https://warontherocks.com/2025/07/how-iran-overplayed-its-hand/",
         "Mon, 14 Jul 2025 07:30:27 +0000",
         "<p>After Israel struck Iran&#8217;s nuclear facilities, there were good reasons to be skeptical about the official justification for launching the operation. After all, Israeli Prime Minister Benjamin Netanyahu has a decades-long history of crying wolf about the &#8220;imminent threat&#8221; of Iran pursuing nuclear weapons. When Israel recently presented the United States with what was supposed to be new evidence of Iran&#8217;s sprint towards the bomb, American officials were less than convinced.Yet, every skeptical voice ultimately had to deal with what seemed to be the key question: Why else would Iran recently produce such large stocks of highly enriched uranium, if</p>\n<p>The post <a href=\"https://warontherocks.com/2025/07/how-iran-overplayed-its-hand/\" rel=\"nofollow\">How Iran Overplayed its Hand</a> appeared first on <a href=\"https://warontherocks.com\" rel=\"nofollow\">War on the Rocks</a>.</p>",
         "WaronTheRocks",
         "How Iran Overplayed its Hand <p>After Israel struck Iran&#8217;s nuclear facilities, there were good reasons to be skeptical about the official justification for launching the operation. After all, Israeli Prime Minister Benjamin Netanyahu has a decades-long history of crying wolf about the &#8220;imminent threat&#8221; of Iran pursuing nuclear weapons. When Israel recently presented the United States with what was supposed to be new evidence of Iran&#8217;s sprint towards the bomb, American officials were less than convinced.Yet, every skeptical voice ultimately had to deal with what seemed to be the key question: Why else would Iran recently produce such large stocks of highly enriched uranium, if</p>\n<p>The post <a href=\"https://warontherocks.com/2025/07/how-iran-overplayed-its-hand/\" rel=\"nofollow\">How Iran Overplayed its Hand</a> appeared first on <a href=\"https://warontherocks.com\" rel=\"nofollow\">War on the Rocks</a>.</p>"
        ],
        [
         "1",
         "Small State, Big Stakes: The Maldives and Strategic Competition in the Indian Ocean",
         "https://warontherocks.com/2025/07/small-state-big-stakes-the-maldives-and-strategic-competition-in-the-indian-ocean/",
         "Mon, 14 Jul 2025 07:15:02 +0000",
         "<p>Located at the crossroads of vital Indian Ocean shipping lanes linking the Middle East and Asia, the Maldives has emerged as an unlikely but increasingly important foothold in Indo-Pacific strategic rivalry. Despite having less than 600,000 residents and limited naval capacity, the country&#8217;s geographic position, economic ambition, and diplomatic agility have made it a valuable partner for major powers. Mal&#233; is attempting to actively shape its strategic environment by securing investments, courting diverse partnerships, and raising its regional profile. For China, India, the United States, and others, access to Maldivian territory or association with its leadership enhances their ability to</p>\n<p>The post <a href=\"https://warontherocks.com/2025/07/small-state-big-stakes-the-maldives-and-strategic-competition-in-the-indian-ocean/\" rel=\"nofollow\">Small State, Big Stakes: The Maldives and Strategic Competition in the Indian Ocean</a> appeared first on <a href=\"https://warontherocks.com\" rel=\"nofollow\">War on the Rocks</a>.</p>",
         "WaronTheRocks",
         "Small State, Big Stakes: The Maldives and Strategic Competition in the Indian Ocean <p>Located at the crossroads of vital Indian Ocean shipping lanes linking the Middle East and Asia, the Maldives has emerged as an unlikely but increasingly important foothold in Indo-Pacific strategic rivalry. Despite having less than 600,000 residents and limited naval capacity, the country&#8217;s geographic position, economic ambition, and diplomatic agility have made it a valuable partner for major powers. Mal&#233; is attempting to actively shape its strategic environment by securing investments, courting diverse partnerships, and raising its regional profile. For China, India, the United States, and others, access to Maldivian territory or association with its leadership enhances their ability to</p>\n<p>The post <a href=\"https://warontherocks.com/2025/07/small-state-big-stakes-the-maldives-and-strategic-competition-in-the-indian-ocean/\" rel=\"nofollow\">Small State, Big Stakes: The Maldives and Strategic Competition in the Indian Ocean</a> appeared first on <a href=\"https://warontherocks.com\" rel=\"nofollow\">War on the Rocks</a>.</p>"
        ],
        [
         "2",
         "Toward a New Grand Design? Reviving Sully’s Legacy in European Strategic Thought",
         "https://warontherocks.com/2025/07/toward-a-new-grand-design-reviving-sullys-legacy-in-european-strategic-thought/",
         "Fri, 11 Jul 2025 07:30:53 +0000",
         "<p>Editor&#8217;s Note: This is part of a running series of essays by Iskander Rehman, entitled &#8220;Applied History,&#8221; which seeks, through the study of the history of strategy and military operations, to better illuminate contemporary defense challenges.We need not waste our time in disputes about who originated this idea of United Europe. There are many valid modern patents. There are many famous names associated with the revival and presentation of this idea, but we may all, I think, yield our pretensions to Henry Navarre, King of France, who, with his great Minister Sully, between the years 1600 and 1607, labored to</p>\n<p>The post <a href=\"https://warontherocks.com/2025/07/toward-a-new-grand-design-reviving-sullys-legacy-in-european-strategic-thought/\" rel=\"nofollow\">Toward a New Grand Design? Reviving Sully’s Legacy in European Strategic Thought</a> appeared first on <a href=\"https://warontherocks.com\" rel=\"nofollow\">War on the Rocks</a>.</p>",
         "WaronTheRocks",
         "Toward a New Grand Design? Reviving Sully’s Legacy in European Strategic Thought <p>Editor&#8217;s Note: This is part of a running series of essays by Iskander Rehman, entitled &#8220;Applied History,&#8221; which seeks, through the study of the history of strategy and military operations, to better illuminate contemporary defense challenges.We need not waste our time in disputes about who originated this idea of United Europe. There are many valid modern patents. There are many famous names associated with the revival and presentation of this idea, but we may all, I think, yield our pretensions to Henry Navarre, King of France, who, with his great Minister Sully, between the years 1600 and 1607, labored to</p>\n<p>The post <a href=\"https://warontherocks.com/2025/07/toward-a-new-grand-design-reviving-sullys-legacy-in-european-strategic-thought/\" rel=\"nofollow\">Toward a New Grand Design? Reviving Sully’s Legacy in European Strategic Thought</a> appeared first on <a href=\"https://warontherocks.com\" rel=\"nofollow\">War on the Rocks</a>.</p>"
        ],
        [
         "3",
         "Consequences Unfold",
         "https://warontherocks.com/2025/07/consequences-unfold/",
         "Thu, 10 Jul 2025 17:30:57 +0000",
         "<p>Welcome to The Adversarial.&#160;Every other week, we&#8217;ll provide you with expert analysis on America&#8217;s greatest challengers: China, Russia, Iran, North Korea, and jihadists. Read more below.***IranRelations between Iran&#8217;s government and the U.N. nuclear watchdog had been on a downward spiral even before last month&#8217;s Israeli and U.S. strikes against Iran&#8217;s nuclear program, and they have taken a turn for the worse since a ceasefire took effect. Over the years, Tehran has limited the International Atomic Energy Agency&#8217;s access and accused it of biased reporting but still allowed some degree of cooperation. However, following the attacks, Iran&#8217;s government quickly moved to</p>\n<p>The post <a href=\"https://warontherocks.com/2025/07/consequences-unfold/\" rel=\"nofollow\">Consequences Unfold</a> appeared first on <a href=\"https://warontherocks.com\" rel=\"nofollow\">War on the Rocks</a>.</p>",
         "WaronTheRocks",
         "Consequences Unfold <p>Welcome to The Adversarial.&#160;Every other week, we&#8217;ll provide you with expert analysis on America&#8217;s greatest challengers: China, Russia, Iran, North Korea, and jihadists. Read more below.***IranRelations between Iran&#8217;s government and the U.N. nuclear watchdog had been on a downward spiral even before last month&#8217;s Israeli and U.S. strikes against Iran&#8217;s nuclear program, and they have taken a turn for the worse since a ceasefire took effect. Over the years, Tehran has limited the International Atomic Energy Agency&#8217;s access and accused it of biased reporting but still allowed some degree of cooperation. However, following the attacks, Iran&#8217;s government quickly moved to</p>\n<p>The post <a href=\"https://warontherocks.com/2025/07/consequences-unfold/\" rel=\"nofollow\">Consequences Unfold</a> appeared first on <a href=\"https://warontherocks.com\" rel=\"nofollow\">War on the Rocks</a>.</p>"
        ],
        [
         "4",
         "China’s Mineral Monopoly Demands Renewing the Development Finance Corporation",
         "https://warontherocks.com/2025/07/chinas-mineral-monopoly-demands-renewing-the-development-finance-corporation/",
         "Thu, 10 Jul 2025 07:30:26 +0000",
         "<p>American auto manufacturers are preparing to shut down production lines. Defense manufacturers may not be far behind. The tit-for-tat tariff escalation between the United States and China dominated headlines throughout March and April, but the real escalation happened quietly. On April 4, Beijing restricted exports of seven rare earth elements and rare earth permanent magnets &#8212; key components in everything from automatic transmissions to missiles.China dominates the rare earth refining and magnet production processes, so the export restrictions jeopardize America&#8217;s ability to manufacture almost anything with moving parts. Civilian vehicles alone rely on these materials for motors, sensors, seat belts,</p>\n<p>The post <a href=\"https://warontherocks.com/2025/07/chinas-mineral-monopoly-demands-renewing-the-development-finance-corporation/\" rel=\"nofollow\">China&#8217;s Mineral Monopoly Demands Renewing the Development Finance Corporation</a> appeared first on <a href=\"https://warontherocks.com\" rel=\"nofollow\">War on the Rocks</a>.</p>",
         "WaronTheRocks",
         "China’s Mineral Monopoly Demands Renewing the Development Finance Corporation <p>American auto manufacturers are preparing to shut down production lines. Defense manufacturers may not be far behind. The tit-for-tat tariff escalation between the United States and China dominated headlines throughout March and April, but the real escalation happened quietly. On April 4, Beijing restricted exports of seven rare earth elements and rare earth permanent magnets &#8212; key components in everything from automatic transmissions to missiles.China dominates the rare earth refining and magnet production processes, so the export restrictions jeopardize America&#8217;s ability to manufacture almost anything with moving parts. Civilian vehicles alone rely on these materials for motors, sensors, seat belts,</p>\n<p>The post <a href=\"https://warontherocks.com/2025/07/chinas-mineral-monopoly-demands-renewing-the-development-finance-corporation/\" rel=\"nofollow\">China&#8217;s Mineral Monopoly Demands Renewing the Development Finance Corporation</a> appeared first on <a href=\"https://warontherocks.com\" rel=\"nofollow\">War on the Rocks</a>.</p>"
        ],
        [
         "5",
         "AUKUS Aftershocks: France’s Enduring Indo-Pacific Interests",
         "https://warontherocks.com/2025/07/aukus-aftershocks-frances-enduring-indo-pacific-interests/",
         "Wed, 09 Jul 2025 17:30:42 +0000",
         "<p>In their 2022 article &#8220;Moving on After AUKUS: Working with France in the Indo-Pacific,&#8221; Gesine Weber and Edgar Tam argued that despite AUKUS roiling France&#8217;s relationship with the United States, France had meaningful contributions to offer to the Indo-Pacific region and the non-nuclear aspects of the AUKUS partnership. Three years on, we asked them to reassess their argument.Image: Pr&#233;sidence de la R&#233;publiqueIn your 2022 article &#8220;Moving on After AUKUS: Working with France in the Indo-Pacific,&#8221; you argued that the timing of AUKUS overshadowed the European Union&#8217;s Indo-Pacific strategy that France had lobbied for extensively. Looking back now, was this timing</p>\n<p>The post <a href=\"https://warontherocks.com/2025/07/aukus-aftershocks-frances-enduring-indo-pacific-interests/\" rel=\"nofollow\">AUKUS Aftershocks: France’s Enduring Indo-Pacific Interests</a> appeared first on <a href=\"https://warontherocks.com\" rel=\"nofollow\">War on the Rocks</a>.</p>",
         "WaronTheRocks",
         "AUKUS Aftershocks: France’s Enduring Indo-Pacific Interests <p>In their 2022 article &#8220;Moving on After AUKUS: Working with France in the Indo-Pacific,&#8221; Gesine Weber and Edgar Tam argued that despite AUKUS roiling France&#8217;s relationship with the United States, France had meaningful contributions to offer to the Indo-Pacific region and the non-nuclear aspects of the AUKUS partnership. Three years on, we asked them to reassess their argument.Image: Pr&#233;sidence de la R&#233;publiqueIn your 2022 article &#8220;Moving on After AUKUS: Working with France in the Indo-Pacific,&#8221; you argued that the timing of AUKUS overshadowed the European Union&#8217;s Indo-Pacific strategy that France had lobbied for extensively. Looking back now, was this timing</p>\n<p>The post <a href=\"https://warontherocks.com/2025/07/aukus-aftershocks-frances-enduring-indo-pacific-interests/\" rel=\"nofollow\">AUKUS Aftershocks: France’s Enduring Indo-Pacific Interests</a> appeared first on <a href=\"https://warontherocks.com\" rel=\"nofollow\">War on the Rocks</a>.</p>"
        ],
        [
         "6",
         "South Korea’s New Government and Defense Policy Is Taking Shape",
         "https://warontherocks.com/2025/07/in-brief-south-koreas-new-government-and-defense-policy-is-taking-shape/",
         "Wed, 09 Jul 2025 16:30:17 +0000",
         "<p>In early June, Lee Jae-myung &#8212; the Democratic Party&#8217;s candidate &#8212; won South Korea&#8217;s presidential elections. He took office after several months of political turbulence that followed President Yoon Suk Yeol&#8217;s failed attempt to impose martial law. Lee&#8217;s election raised questions about the future of South Korean security and foreign policy. Now that Lee has chosen key members of his policy team &#8212; including nominating Ahn Gyu-back as the first civilian defense minister in decades &#8212; a clearer picture is emerging of how the new government will approach defense and relations with allies and rivals. We asked four experts to</p>\n<p>The post <a href=\"https://warontherocks.com/2025/07/in-brief-south-koreas-new-government-and-defense-policy-is-taking-shape/\" rel=\"nofollow\">South Korea’s New Government and Defense Policy Is Taking Shape</a> appeared first on <a href=\"https://warontherocks.com\" rel=\"nofollow\">War on the Rocks</a>.</p>",
         "WaronTheRocks",
         "South Korea’s New Government and Defense Policy Is Taking Shape <p>In early June, Lee Jae-myung &#8212; the Democratic Party&#8217;s candidate &#8212; won South Korea&#8217;s presidential elections. He took office after several months of political turbulence that followed President Yoon Suk Yeol&#8217;s failed attempt to impose martial law. Lee&#8217;s election raised questions about the future of South Korean security and foreign policy. Now that Lee has chosen key members of his policy team &#8212; including nominating Ahn Gyu-back as the first civilian defense minister in decades &#8212; a clearer picture is emerging of how the new government will approach defense and relations with allies and rivals. We asked four experts to</p>\n<p>The post <a href=\"https://warontherocks.com/2025/07/in-brief-south-koreas-new-government-and-defense-policy-is-taking-shape/\" rel=\"nofollow\">South Korea’s New Government and Defense Policy Is Taking Shape</a> appeared first on <a href=\"https://warontherocks.com\" rel=\"nofollow\">War on the Rocks</a>.</p>"
        ],
        [
         "7",
         "How Ukraine is Adapting, Enduring, and Striking Back",
         "https://warontherocks.com/2025/07/how-ukraine-is-adapting-enduring-and-striking-back/",
         "Wed, 09 Jul 2025 13:42:59 +0000",
         "<p>Mike Kofman and Ryan brought out the mics to discuss the pressing issues in the war between Ukraine and Russia. They focused on drones, the state of the front, manpower, Putin&#8217;s approach to Washington, and the contested policies around continued aid from the United States to Ukraine.This episode features meaty excerpts from an episode of&#160;The Insider, featuring an interview with Jakub Jajcay talking about his article, &#8220;I Fought in Ukraine and Here&#8217;s Why FPV Drones Kind of Suck&#8221; as well as an episode of The Russia Contingency&#160;featuring a two part conversation with Stephen Kotkin, the leading historian of Russia and</p>\n<p>The post <a href=\"https://warontherocks.com/2025/07/how-ukraine-is-adapting-enduring-and-striking-back/\" rel=\"nofollow\">How Ukraine is Adapting, Enduring, and Striking Back</a> appeared first on <a href=\"https://warontherocks.com\" rel=\"nofollow\">War on the Rocks</a>.</p>",
         "WaronTheRocks",
         "How Ukraine is Adapting, Enduring, and Striking Back <p>Mike Kofman and Ryan brought out the mics to discuss the pressing issues in the war between Ukraine and Russia. They focused on drones, the state of the front, manpower, Putin&#8217;s approach to Washington, and the contested policies around continued aid from the United States to Ukraine.This episode features meaty excerpts from an episode of&#160;The Insider, featuring an interview with Jakub Jajcay talking about his article, &#8220;I Fought in Ukraine and Here&#8217;s Why FPV Drones Kind of Suck&#8221; as well as an episode of The Russia Contingency&#160;featuring a two part conversation with Stephen Kotkin, the leading historian of Russia and</p>\n<p>The post <a href=\"https://warontherocks.com/2025/07/how-ukraine-is-adapting-enduring-and-striking-back/\" rel=\"nofollow\">How Ukraine is Adapting, Enduring, and Striking Back</a> appeared first on <a href=\"https://warontherocks.com\" rel=\"nofollow\">War on the Rocks</a>.</p>"
        ],
        [
         "8",
         "Beijing’s Push for a Sino-Centric Asia is Cracking Southeast Asia’s Hedging Game",
         "https://warontherocks.com/2025/07/beijings-push-for-a-sino-centric-asia-is-cracking-southeast-asias-hedging-game/",
         "Wed, 09 Jul 2025 07:30:09 +0000",
         "<p>Chinese leader Xi Jinping&#8217;s recent visit to three Southeast Asian countries drew widespread headlines &#8212; not only for diplomatic pageantry but also for its timing. The visit came on the heels of President Donald Trump&#8217;s announcement of a sweeping &#8220;reciprocal tariff&#8221; policy, which disproportionately affects Southeast Asian economies. Media coverage of Xi&#8217;s trip largely focused on Beijing&#8217;s attempts to capitalize on Washington&#8217;s recent missteps. Mostly undiscussed was the region&#8217;s longer-term reality: China has already entrenched itself as the predominant power in Southeast Asia, a region Beijing has long regarded as vital to its political and strategic survival.This view was reaffirmed</p>\n<p>The post <a href=\"https://warontherocks.com/2025/07/beijings-push-for-a-sino-centric-asia-is-cracking-southeast-asias-hedging-game/\" rel=\"nofollow\">Beijing’s Push for a Sino-Centric Asia is Cracking Southeast Asia’s Hedging Game</a> appeared first on <a href=\"https://warontherocks.com\" rel=\"nofollow\">War on the Rocks</a>.</p>",
         "WaronTheRocks",
         "Beijing’s Push for a Sino-Centric Asia is Cracking Southeast Asia’s Hedging Game <p>Chinese leader Xi Jinping&#8217;s recent visit to three Southeast Asian countries drew widespread headlines &#8212; not only for diplomatic pageantry but also for its timing. The visit came on the heels of President Donald Trump&#8217;s announcement of a sweeping &#8220;reciprocal tariff&#8221; policy, which disproportionately affects Southeast Asian economies. Media coverage of Xi&#8217;s trip largely focused on Beijing&#8217;s attempts to capitalize on Washington&#8217;s recent missteps. Mostly undiscussed was the region&#8217;s longer-term reality: China has already entrenched itself as the predominant power in Southeast Asia, a region Beijing has long regarded as vital to its political and strategic survival.This view was reaffirmed</p>\n<p>The post <a href=\"https://warontherocks.com/2025/07/beijings-push-for-a-sino-centric-asia-is-cracking-southeast-asias-hedging-game/\" rel=\"nofollow\">Beijing’s Push for a Sino-Centric Asia is Cracking Southeast Asia’s Hedging Game</a> appeared first on <a href=\"https://warontherocks.com\" rel=\"nofollow\">War on the Rocks</a>.</p>"
        ],
        [
         "9",
         "The Importance of the Battle of Cannae",
         "https://warontherocks.com/2025/07/the-importance-of-the-battle-of-cannae/",
         "Tue, 08 Jul 2025 07:30:32 +0000",
         "<p>Editor&#8217;s Note: This is part of a new series of essays entitled &#8220;Battle Studies,&#8221; which seeks, through the study of military history, to demonstrate how past lessons about strategy, operations, and tactics apply to current defense challenges.The Battle of Cannae, fought on Aug. 2, 216 BCE, the crowning success of Hannibal Barca over the Romans, sits comfortably in the pantheon of great military victories. It is one of the most spectacular examples of adroit tactics enabling a smaller, less heavily equipped army to defeat a larger, heavier opposing force in an open, pitched battle. However, though Cannae is frequently described</p>\n<p>The post <a href=\"https://warontherocks.com/2025/07/the-importance-of-the-battle-of-cannae/\" rel=\"nofollow\">The Importance of the Battle of Cannae</a> appeared first on <a href=\"https://warontherocks.com\" rel=\"nofollow\">War on the Rocks</a>.</p>",
         "WaronTheRocks",
         "The Importance of the Battle of Cannae <p>Editor&#8217;s Note: This is part of a new series of essays entitled &#8220;Battle Studies,&#8221; which seeks, through the study of military history, to demonstrate how past lessons about strategy, operations, and tactics apply to current defense challenges.The Battle of Cannae, fought on Aug. 2, 216 BCE, the crowning success of Hannibal Barca over the Romans, sits comfortably in the pantheon of great military victories. It is one of the most spectacular examples of adroit tactics enabling a smaller, less heavily equipped army to defeat a larger, heavier opposing force in an open, pitched battle. However, though Cannae is frequently described</p>\n<p>The post <a href=\"https://warontherocks.com/2025/07/the-importance-of-the-battle-of-cannae/\" rel=\"nofollow\">The Importance of the Battle of Cannae</a> appeared first on <a href=\"https://warontherocks.com\" rel=\"nofollow\">War on the Rocks</a>.</p>"
        ],
        [
         "10",
         "Knowledge as National Power on Independence Day, 1828",
         "https://warontherocks.com/2025/07/frances-wright-on-knowledge-as-national-power-on-independence-day-1828/",
         "Mon, 07 Jul 2025 07:30:02 +0000",
         "<p>Editor&#8217;s Note: &#160;In 1828, for a woman to deliver a major public address on a political occasion like the Fourth of July was a radical and highly controversial act. That&#8217;s what happened that year at New Harmony Hall, where the abolitionist and freethinker Frances Wright delivered a speech that, on its surface, might seem distant from the modern strategist&#8217;s concerns. Yet, her impassioned call for a system of national, rational education speaks directly to the foundational pillars of any strong and resilient state. Wright argues for an education grounded in empirical inquiry and critical thought, liberated from the dogma she</p>\n<p>The post <a href=\"https://warontherocks.com/2025/07/frances-wright-on-knowledge-as-national-power-on-independence-day-1828/\" rel=\"nofollow\">Knowledge as National Power on Independence Day, 1828</a> appeared first on <a href=\"https://warontherocks.com\" rel=\"nofollow\">War on the Rocks</a>.</p>",
         "WaronTheRocks",
         "Knowledge as National Power on Independence Day, 1828 <p>Editor&#8217;s Note: &#160;In 1828, for a woman to deliver a major public address on a political occasion like the Fourth of July was a radical and highly controversial act. That&#8217;s what happened that year at New Harmony Hall, where the abolitionist and freethinker Frances Wright delivered a speech that, on its surface, might seem distant from the modern strategist&#8217;s concerns. Yet, her impassioned call for a system of national, rational education speaks directly to the foundational pillars of any strong and resilient state. Wright argues for an education grounded in empirical inquiry and critical thought, liberated from the dogma she</p>\n<p>The post <a href=\"https://warontherocks.com/2025/07/frances-wright-on-knowledge-as-national-power-on-independence-day-1828/\" rel=\"nofollow\">Knowledge as National Power on Independence Day, 1828</a> appeared first on <a href=\"https://warontherocks.com\" rel=\"nofollow\">War on the Rocks</a>.</p>"
        ],
        [
         "11",
         "Some Elements of the American Character",
         "https://warontherocks.com/2025/07/some-elements-of-the-american-character/",
         "Fri, 04 Jul 2025 07:30:59 +0000",
         "<p>Editor&#8217;s Note: A pre-presidential John F. Kennedy gave this speech at Faneuil Hall in Boston while running for Congress on July 4, 1946.Kennedy contends that religion, idealism, patriotism, and individualism are some of the fundamental elements of a distinctively American character. He claimed that America has upheld these elements to advance the principles of human dignity and individual freedom since the founding of the country.&#160;The youthful veteran urged all Americans to draw from these admirable traits that define us to confront the bitter days which lie ahead as the glory of World War II victory gave way to a new</p>\n<p>The post <a href=\"https://warontherocks.com/2025/07/some-elements-of-the-american-character/\" rel=\"nofollow\">Some Elements of the American Character</a> appeared first on <a href=\"https://warontherocks.com\" rel=\"nofollow\">War on the Rocks</a>.</p>",
         "WaronTheRocks",
         "Some Elements of the American Character <p>Editor&#8217;s Note: A pre-presidential John F. Kennedy gave this speech at Faneuil Hall in Boston while running for Congress on July 4, 1946.Kennedy contends that religion, idealism, patriotism, and individualism are some of the fundamental elements of a distinctively American character. He claimed that America has upheld these elements to advance the principles of human dignity and individual freedom since the founding of the country.&#160;The youthful veteran urged all Americans to draw from these admirable traits that define us to confront the bitter days which lie ahead as the glory of World War II victory gave way to a new</p>\n<p>The post <a href=\"https://warontherocks.com/2025/07/some-elements-of-the-american-character/\" rel=\"nofollow\">Some Elements of the American Character</a> appeared first on <a href=\"https://warontherocks.com\" rel=\"nofollow\">War on the Rocks</a>.</p>"
        ],
        [
         "12",
         "Gen. Donahue on Deterring Russia in Europe",
         "https://warontherocks.com/2025/07/gen-donahue-on-deterring-russia-in-europe/",
         "Thu, 03 Jul 2025 15:01:31 +0000",
         "<p>Gen. Christopher Todd Donahue, who leads U.S. Army Europe and Africa as well as Allied Land Command, joined Ryan for a discussion at WOTR HQ. For the first five minutes, they chat about his Army story, his time in the Ranger Regiment, before discussing how the Army Transformation Initiative is unfolding in Europe, from maneuver brigades, new technologies, command-and-control, drone and counter-drone operations, and more. Donahue previews how the U.S. Army has deliberately identified lessons from the war in Ukraine and how the Army fits into the joint fight.Image: Sgt. Jose Lora via DVIDS</p>\n<p>The post <a href=\"https://warontherocks.com/2025/07/gen-donahue-on-deterring-russia-in-europe/\" rel=\"nofollow\">Gen. Donahue on Deterring Russia in Europe</a> appeared first on <a href=\"https://warontherocks.com\" rel=\"nofollow\">War on the Rocks</a>.</p>",
         "WaronTheRocks",
         "Gen. Donahue on Deterring Russia in Europe <p>Gen. Christopher Todd Donahue, who leads U.S. Army Europe and Africa as well as Allied Land Command, joined Ryan for a discussion at WOTR HQ. For the first five minutes, they chat about his Army story, his time in the Ranger Regiment, before discussing how the Army Transformation Initiative is unfolding in Europe, from maneuver brigades, new technologies, command-and-control, drone and counter-drone operations, and more. Donahue previews how the U.S. Army has deliberately identified lessons from the war in Ukraine and how the Army fits into the joint fight.Image: Sgt. Jose Lora via DVIDS</p>\n<p>The post <a href=\"https://warontherocks.com/2025/07/gen-donahue-on-deterring-russia-in-europe/\" rel=\"nofollow\">Gen. Donahue on Deterring Russia in Europe</a> appeared first on <a href=\"https://warontherocks.com\" rel=\"nofollow\">War on the Rocks</a>.</p>"
        ],
        [
         "13",
         "A Workforce Strategy for America’s Shipbuilding Future",
         "https://warontherocks.com/2025/07/a-workforce-strategy-for-americas-shipbuilding-future/",
         "Thu, 03 Jul 2025 08:00:49 +0000",
         "<p>It&#8217;s no secret that America&#8217;s shipbuilding workforce is in crisis. The nation is struggling to retain a sufficient workforce to meet existing requirements. It&#8217;s also no secret that China is outpacing the United States in shipbuilding at a rate of six to 1.8 combatant ships and a staggering 200 to one in commercial ships. President Donald Trump&#8217;s April 9, 2025, executive order, &#8220;Restoring America&#8217;s Maritime Dominance,&#8221; calls for a Maritime Action Plan directing the secretaries of state, defense, labor, transportation, education, and homeland security to deliver recommendations to address workforce challenges. Put simply: The United States needs people to build</p>\n<p>The post <a href=\"https://warontherocks.com/2025/07/a-workforce-strategy-for-americas-shipbuilding-future/\" rel=\"nofollow\">A Workforce Strategy for America’s Shipbuilding Future</a> appeared first on <a href=\"https://warontherocks.com\" rel=\"nofollow\">War on the Rocks</a>.</p>",
         "WaronTheRocks",
         "A Workforce Strategy for America’s Shipbuilding Future <p>It&#8217;s no secret that America&#8217;s shipbuilding workforce is in crisis. The nation is struggling to retain a sufficient workforce to meet existing requirements. It&#8217;s also no secret that China is outpacing the United States in shipbuilding at a rate of six to 1.8 combatant ships and a staggering 200 to one in commercial ships. President Donald Trump&#8217;s April 9, 2025, executive order, &#8220;Restoring America&#8217;s Maritime Dominance,&#8221; calls for a Maritime Action Plan directing the secretaries of state, defense, labor, transportation, education, and homeland security to deliver recommendations to address workforce challenges. Put simply: The United States needs people to build</p>\n<p>The post <a href=\"https://warontherocks.com/2025/07/a-workforce-strategy-for-americas-shipbuilding-future/\" rel=\"nofollow\">A Workforce Strategy for America’s Shipbuilding Future</a> appeared first on <a href=\"https://warontherocks.com\" rel=\"nofollow\">War on the Rocks</a>.</p>"
        ],
        [
         "14",
         "Calling Out Russia: France’s Shift on Public Attribution",
         "https://warontherocks.com/2025/07/calling-out-russia-frances-shift-on-public-attribution/",
         "Thu, 03 Jul 2025 07:30:51 +0000",
         "<p>Is silence strategic when your adversary barely hides? For years, France maintained a policy of quiet restraint, generally refusing to publicly name foreign governments behind cyber attacks, disinformation campaigns, or covert interference &#8212; even when evidence pointed squarely at Moscow. But on May 13, 2025, President Emmanuel Macron announced that France would now systematically attribute hostile acts in response to the growing Russian threat. This policy shift was backed by a 16-page report from French domestic and foreign intelligence services disclosed to L&#8217;Express, detailing 13 acts of aggressions by Russian President Vladimir Putin against France. These announcements mark the end</p>\n<p>The post <a href=\"https://warontherocks.com/2025/07/calling-out-russia-frances-shift-on-public-attribution/\" rel=\"nofollow\">Calling Out Russia: France’s Shift on Public Attribution</a> appeared first on <a href=\"https://warontherocks.com\" rel=\"nofollow\">War on the Rocks</a>.</p>",
         "WaronTheRocks",
         "Calling Out Russia: France’s Shift on Public Attribution <p>Is silence strategic when your adversary barely hides? For years, France maintained a policy of quiet restraint, generally refusing to publicly name foreign governments behind cyber attacks, disinformation campaigns, or covert interference &#8212; even when evidence pointed squarely at Moscow. But on May 13, 2025, President Emmanuel Macron announced that France would now systematically attribute hostile acts in response to the growing Russian threat. This policy shift was backed by a 16-page report from French domestic and foreign intelligence services disclosed to L&#8217;Express, detailing 13 acts of aggressions by Russian President Vladimir Putin against France. These announcements mark the end</p>\n<p>The post <a href=\"https://warontherocks.com/2025/07/calling-out-russia-frances-shift-on-public-attribution/\" rel=\"nofollow\">Calling Out Russia: France’s Shift on Public Attribution</a> appeared first on <a href=\"https://warontherocks.com\" rel=\"nofollow\">War on the Rocks</a>.</p>"
        ],
        [
         "15",
         "Taking Stock of the Resistance in Myanmar",
         "https://warontherocks.com/2025/07/taking-stock-of-the-resistance-in-myanmar/",
         "Wed, 02 Jul 2025 17:30:59 +0000",
         "<p>In their 2022 article, &#8220;A More United, Better-Armed Opposition Can Bring Democracy to Myanmar,&#8221; Ye Myo Hein and Lucas Myers argued the piecemeal resistance in Myanmar had several opportunities to improve and make substantive gains against the military junta controlling the country. Three years on, we asked them to revisit their analysis in light of events on the ground.In your 2022 article, &#8220;A More United, Better-Armed Opposition Can Bring Democracy to Myanmar,&#8221; you argued that the disparate, fractured resistance in Myanmar could make progress in its civil war against the military junta controlling the country if it were better armed</p>\n<p>The post <a href=\"https://warontherocks.com/2025/07/taking-stock-of-the-resistance-in-myanmar/\" rel=\"nofollow\">Taking Stock of the Resistance in Myanmar</a> appeared first on <a href=\"https://warontherocks.com\" rel=\"nofollow\">War on the Rocks</a>.</p>",
         "WaronTheRocks",
         "Taking Stock of the Resistance in Myanmar <p>In their 2022 article, &#8220;A More United, Better-Armed Opposition Can Bring Democracy to Myanmar,&#8221; Ye Myo Hein and Lucas Myers argued the piecemeal resistance in Myanmar had several opportunities to improve and make substantive gains against the military junta controlling the country. Three years on, we asked them to revisit their analysis in light of events on the ground.In your 2022 article, &#8220;A More United, Better-Armed Opposition Can Bring Democracy to Myanmar,&#8221; you argued that the disparate, fractured resistance in Myanmar could make progress in its civil war against the military junta controlling the country if it were better armed</p>\n<p>The post <a href=\"https://warontherocks.com/2025/07/taking-stock-of-the-resistance-in-myanmar/\" rel=\"nofollow\">Taking Stock of the Resistance in Myanmar</a> appeared first on <a href=\"https://warontherocks.com\" rel=\"nofollow\">War on the Rocks</a>.</p>"
        ],
        [
         "16",
         "Transformer Trouble and the National Security Imperative",
         "https://warontherocks.com/2025/07/transformer-trouble-and-the-national-security-imperative/",
         "Wed, 02 Jul 2025 07:30:44 +0000",
         "<p>On a cold December night in 2022, coordinated attacks on two electrical substations in Moore County, North Carolina, left nearly 45,000 people without power for five days. Among them were thousands of military families &#8212; including mine &#8212; who lived in the county and worked at nearby Fort Bragg, many from the special operations community. The attack, carried out with gunfire, brought daily life to a standstill. One person, who depended on an oxygen machine, died because of the power outage.The substation attack underscored a long-feared reality: America&#8217;s aging electrical transformer fleet &#8212; the backbone of both civilian life and</p>\n<p>The post <a href=\"https://warontherocks.com/2025/07/transformer-trouble-and-the-national-security-imperative/\" rel=\"nofollow\">Transformer Trouble and the National Security Imperative</a> appeared first on <a href=\"https://warontherocks.com\" rel=\"nofollow\">War on the Rocks</a>.</p>",
         "WaronTheRocks",
         "Transformer Trouble and the National Security Imperative <p>On a cold December night in 2022, coordinated attacks on two electrical substations in Moore County, North Carolina, left nearly 45,000 people without power for five days. Among them were thousands of military families &#8212; including mine &#8212; who lived in the county and worked at nearby Fort Bragg, many from the special operations community. The attack, carried out with gunfire, brought daily life to a standstill. One person, who depended on an oxygen machine, died because of the power outage.The substation attack underscored a long-feared reality: America&#8217;s aging electrical transformer fleet &#8212; the backbone of both civilian life and</p>\n<p>The post <a href=\"https://warontherocks.com/2025/07/transformer-trouble-and-the-national-security-imperative/\" rel=\"nofollow\">Transformer Trouble and the National Security Imperative</a> appeared first on <a href=\"https://warontherocks.com\" rel=\"nofollow\">War on the Rocks</a>.</p>"
        ],
        [
         "17",
         "What Did the 2025 NATO Summit Achieve?",
         "https://warontherocks.com/2025/07/what-did-the-2025-nato-summit-achieve/",
         "Tue, 01 Jul 2025 17:30:35 +0000",
         "<p>On June 24 and 25, NATO leaders met in The Hague for a summit, where they focused much of their attention on increasing defense spending to 5 percent of GDP annually and on affirming unity among the allies &#8212; notably working to ensure that U.S. President Donald Trump, who raised significant questions about the value of the NATO alliance during his first term as president, remained within the fold. The gathering took place immediately after a ceasefire between Israel and Iran took effect and amidst ongoing war in Gaza and between Ukraine and Russia. We asked five experts to share</p>\n<p>The post <a href=\"https://warontherocks.com/2025/07/what-did-the-2025-nato-summit-achieve/\" rel=\"nofollow\">What Did the 2025 NATO Summit Achieve?</a> appeared first on <a href=\"https://warontherocks.com\" rel=\"nofollow\">War on the Rocks</a>.</p>",
         "WaronTheRocks",
         "What Did the 2025 NATO Summit Achieve? <p>On June 24 and 25, NATO leaders met in The Hague for a summit, where they focused much of their attention on increasing defense spending to 5 percent of GDP annually and on affirming unity among the allies &#8212; notably working to ensure that U.S. President Donald Trump, who raised significant questions about the value of the NATO alliance during his first term as president, remained within the fold. The gathering took place immediately after a ceasefire between Israel and Iran took effect and amidst ongoing war in Gaza and between Ukraine and Russia. We asked five experts to share</p>\n<p>The post <a href=\"https://warontherocks.com/2025/07/what-did-the-2025-nato-summit-achieve/\" rel=\"nofollow\">What Did the 2025 NATO Summit Achieve?</a> appeared first on <a href=\"https://warontherocks.com\" rel=\"nofollow\">War on the Rocks</a>.</p>"
        ],
        [
         "18",
         "The SPEED and FoRGED Acts Compared",
         "https://warontherocks.com/2025/07/the-speed-and-forged-acts-compared/",
         "Tue, 01 Jul 2025 08:00:41 +0000",
         "<p>On June 9, House Armed Services Chair Mike Rogers and Ranking Member Adam Smith introduced H.R. 3838, the Streamlining Procurement for Effective Execution and Delivery (SPEED) Act. This is not the first piece of major defense legislation introduced in recent months. In December, Senate Armed Services Chair Roger Wicker introduced S.5618, the Fostering Reform and Government Efficiency in Defense Act (FoRGED) Act. The bills are likely to be reconciled when creating the National Defense Authorization Act.These two bills encourage reforms in similar areas &#8212; the acquisitions system, the program-management model, requirements and regulatory burden, innovation and the industrial base, and</p>\n<p>The post <a href=\"https://warontherocks.com/2025/07/the-speed-and-forged-acts-compared/\" rel=\"nofollow\">The SPEED and FoRGED Acts Compared</a> appeared first on <a href=\"https://warontherocks.com\" rel=\"nofollow\">War on the Rocks</a>.</p>",
         "WaronTheRocks",
         "The SPEED and FoRGED Acts Compared <p>On June 9, House Armed Services Chair Mike Rogers and Ranking Member Adam Smith introduced H.R. 3838, the Streamlining Procurement for Effective Execution and Delivery (SPEED) Act. This is not the first piece of major defense legislation introduced in recent months. In December, Senate Armed Services Chair Roger Wicker introduced S.5618, the Fostering Reform and Government Efficiency in Defense Act (FoRGED) Act. The bills are likely to be reconciled when creating the National Defense Authorization Act.These two bills encourage reforms in similar areas &#8212; the acquisitions system, the program-management model, requirements and regulatory burden, innovation and the industrial base, and</p>\n<p>The post <a href=\"https://warontherocks.com/2025/07/the-speed-and-forged-acts-compared/\" rel=\"nofollow\">The SPEED and FoRGED Acts Compared</a> appeared first on <a href=\"https://warontherocks.com\" rel=\"nofollow\">War on the Rocks</a>.</p>"
        ],
        [
         "19",
         "Marine Force Design Is Four Decades in the Making",
         "https://warontherocks.com/2025/07/marine-force-design-is-four-decades-in-the-making/",
         "Tue, 01 Jul 2025 07:45:54 +0000",
         "<p>Nothing endures but change. A Greek philosopher noted over two thousand years ago that nothing is permanent except change. The Marine Corps is an excellent example of this axiom. As a result of internal and external factors, the Marine Corps is continuously adapting to meet new challenges created by changes in the international security environment and the defense resource situation. -U.S. Marine Corps, Concepts and Issues, Feb. 1989There is no crystal ball for future wars, but military history provides the next best thing. Decisions made decades ago are making an encore in today&#8217;s debate about the design of the Marine</p>\n<p>The post <a href=\"https://warontherocks.com/2025/07/marine-force-design-is-four-decades-in-the-making/\" rel=\"nofollow\">Marine Force Design Is Four Decades in the Making</a> appeared first on <a href=\"https://warontherocks.com\" rel=\"nofollow\">War on the Rocks</a>.</p>",
         "WaronTheRocks",
         "Marine Force Design Is Four Decades in the Making <p>Nothing endures but change. A Greek philosopher noted over two thousand years ago that nothing is permanent except change. The Marine Corps is an excellent example of this axiom. As a result of internal and external factors, the Marine Corps is continuously adapting to meet new challenges created by changes in the international security environment and the defense resource situation. -U.S. Marine Corps, Concepts and Issues, Feb. 1989There is no crystal ball for future wars, but military history provides the next best thing. Decisions made decades ago are making an encore in today&#8217;s debate about the design of the Marine</p>\n<p>The post <a href=\"https://warontherocks.com/2025/07/marine-force-design-is-four-decades-in-the-making/\" rel=\"nofollow\">Marine Force Design Is Four Decades in the Making</a> appeared first on <a href=\"https://warontherocks.com\" rel=\"nofollow\">War on the Rocks</a>.</p>"
        ],
        [
         "20",
         "The Secret Peace in Turkey: How Aging Leaders Are Ending a War",
         "https://warontherocks.com/2025/07/the-secret-peace-in-turkey-how-aging-leaders-are-ending-a-war/",
         "Tue, 01 Jul 2025 07:30:07 +0000",
         "<p>In a quiet but historic turn, the Kurdistan Workers&#8217; Party announced its official dissolution during its 12th&#160;Congress in May&#160;2025. After more than four&#160;decades of armed conflict with the Turkish state, the Kurdistan Workers&#8217; Party has committed to peaceful political engagement. For a group long viewed as Turkey&#8217;s most persistent internal security threat, this move is as surprising as it is consequential.The transition from using violence to using legal and political avenues to address the Kurdish question in Turkey is a welcome development. A peaceful resolution rooted in democratic processes is both overdue and essential. However, the method by which this</p>\n<p>The post <a href=\"https://warontherocks.com/2025/07/the-secret-peace-in-turkey-how-aging-leaders-are-ending-a-war/\" rel=\"nofollow\">The Secret Peace in Turkey: How Aging Leaders Are Ending a War</a> appeared first on <a href=\"https://warontherocks.com\" rel=\"nofollow\">War on the Rocks</a>.</p>",
         "WaronTheRocks",
         "The Secret Peace in Turkey: How Aging Leaders Are Ending a War <p>In a quiet but historic turn, the Kurdistan Workers&#8217; Party announced its official dissolution during its 12th&#160;Congress in May&#160;2025. After more than four&#160;decades of armed conflict with the Turkish state, the Kurdistan Workers&#8217; Party has committed to peaceful political engagement. For a group long viewed as Turkey&#8217;s most persistent internal security threat, this move is as surprising as it is consequential.The transition from using violence to using legal and political avenues to address the Kurdish question in Turkey is a welcome development. A peaceful resolution rooted in democratic processes is both overdue and essential. However, the method by which this</p>\n<p>The post <a href=\"https://warontherocks.com/2025/07/the-secret-peace-in-turkey-how-aging-leaders-are-ending-a-war/\" rel=\"nofollow\">The Secret Peace in Turkey: How Aging Leaders Are Ending a War</a> appeared first on <a href=\"https://warontherocks.com\" rel=\"nofollow\">War on the Rocks</a>.</p>"
        ],
        [
         "21",
         "Inside Skunk Works: How the OG Aerospace Innovators Operate",
         "https://warontherocks.com/2025/06/inside-skunk-works-how-the-og-aerospace-innovators-operate/",
         "Mon, 30 Jun 2025 08:00:17 +0000",
         "<p>What does it take to push aerospace innovation from concept to battlefield? Ryan sits down with John Clark, Lockheed Martin&#8217;s senior vice president for technology and strategic innovation and former head of the legendary Skunk Works. They unpack the Skunk Works playbook for rapid innovation, reveal proven strategies for bending the cost curve, and explore why established defense giants may have an unexpected edge in the race for AI advantage.Image: NASA/Steve Freeman via Wikimedia Commons.</p>\n<p>The post <a href=\"https://warontherocks.com/2025/06/inside-skunk-works-how-the-og-aerospace-innovators-operate/\" rel=\"nofollow\">Inside Skunk Works: How the OG Aerospace Innovators Operate</a> appeared first on <a href=\"https://warontherocks.com\" rel=\"nofollow\">War on the Rocks</a>.</p>",
         "WaronTheRocks",
         "Inside Skunk Works: How the OG Aerospace Innovators Operate <p>What does it take to push aerospace innovation from concept to battlefield? Ryan sits down with John Clark, Lockheed Martin&#8217;s senior vice president for technology and strategic innovation and former head of the legendary Skunk Works. They unpack the Skunk Works playbook for rapid innovation, reveal proven strategies for bending the cost curve, and explore why established defense giants may have an unexpected edge in the race for AI advantage.Image: NASA/Steve Freeman via Wikimedia Commons.</p>\n<p>The post <a href=\"https://warontherocks.com/2025/06/inside-skunk-works-how-the-og-aerospace-innovators-operate/\" rel=\"nofollow\">Inside Skunk Works: How the OG Aerospace Innovators Operate</a> appeared first on <a href=\"https://warontherocks.com\" rel=\"nofollow\">War on the Rocks</a>.</p>"
        ],
        [
         "22",
         "A Strait Comparison: Lessons from the Dardanelles for a Strait of Hormuz Closure",
         "https://warontherocks.com/2025/06/a-strait-comparison-lessons-from-the-dardanelles-for-a-strait-of-hormuz-closure/",
         "Mon, 30 Jun 2025 07:45:54 +0000",
         "<p>On June 22, the United States launched precision airstrikes as part of Operation&#8239;Midnight&#8239;Hammer against Iran&#8217;s nuclear facilities at Fordow, Natanz, and Isfahan. In the wake of those strikes, President Donald Trump said the operation had &#8220;totally obliterated&#8221; those facilities, while Tehran&#8217;s parliament voted to grant the government authority to close the Strait of Hormuz. Such a move, if successfully carried out, could instantaneously disrupt nearly one-fifth of the world&#8217;s oil shipments and cause substantial and potentially cascading economic harm to countries across the globe.Iran threatening to close the Strait of Hormuz is not new. It has periodically issued statements to</p>\n<p>The post <a href=\"https://warontherocks.com/2025/06/a-strait-comparison-lessons-from-the-dardanelles-for-a-strait-of-hormuz-closure/\" rel=\"nofollow\">A Strait Comparison: Lessons from the Dardanelles for a Strait of Hormuz Closure</a> appeared first on <a href=\"https://warontherocks.com\" rel=\"nofollow\">War on the Rocks</a>.</p>",
         "WaronTheRocks",
         "A Strait Comparison: Lessons from the Dardanelles for a Strait of Hormuz Closure <p>On June 22, the United States launched precision airstrikes as part of Operation&#8239;Midnight&#8239;Hammer against Iran&#8217;s nuclear facilities at Fordow, Natanz, and Isfahan. In the wake of those strikes, President Donald Trump said the operation had &#8220;totally obliterated&#8221; those facilities, while Tehran&#8217;s parliament voted to grant the government authority to close the Strait of Hormuz. Such a move, if successfully carried out, could instantaneously disrupt nearly one-fifth of the world&#8217;s oil shipments and cause substantial and potentially cascading economic harm to countries across the globe.Iran threatening to close the Strait of Hormuz is not new. It has periodically issued statements to</p>\n<p>The post <a href=\"https://warontherocks.com/2025/06/a-strait-comparison-lessons-from-the-dardanelles-for-a-strait-of-hormuz-closure/\" rel=\"nofollow\">A Strait Comparison: Lessons from the Dardanelles for a Strait of Hormuz Closure</a> appeared first on <a href=\"https://warontherocks.com\" rel=\"nofollow\">War on the Rocks</a>.</p>"
        ],
        [
         "23",
         "The Case for an Economic Fusion Center to Prevent Strategic Surprise",
         "https://warontherocks.com/2025/06/the-case-for-an-economic-fusion-center-to-prevent-strategic-surprise/",
         "Mon, 30 Jun 2025 07:30:10 +0000",
         "<p>The next major threat to U.S. national security won&#8217;t arrive through a missile silo or a cyberattack but through a port terminal, a biotechnology lab, or a cloud infrastructure contract. Because the threat masquerades as commerce, it is rarely recognized for what it is: a coordinated adversarial campaign to erode America&#8217;s latent power, or a state&#8217;s economic capacity to generate military power over time and embed influence across critical sectors in ways that could be activated or exploited in a future conflict. This is not hypothetical. In 2024, a House Committee on Homeland Security investigation found that some Chinese-made cranes</p>\n<p>The post <a href=\"https://warontherocks.com/2025/06/the-case-for-an-economic-fusion-center-to-prevent-strategic-surprise/\" rel=\"nofollow\">The Case for an Economic Fusion Center to Prevent Strategic Surprise</a> appeared first on <a href=\"https://warontherocks.com\" rel=\"nofollow\">War on the Rocks</a>.</p>",
         "WaronTheRocks",
         "The Case for an Economic Fusion Center to Prevent Strategic Surprise <p>The next major threat to U.S. national security won&#8217;t arrive through a missile silo or a cyberattack but through a port terminal, a biotechnology lab, or a cloud infrastructure contract. Because the threat masquerades as commerce, it is rarely recognized for what it is: a coordinated adversarial campaign to erode America&#8217;s latent power, or a state&#8217;s economic capacity to generate military power over time and embed influence across critical sectors in ways that could be activated or exploited in a future conflict. This is not hypothetical. In 2024, a House Committee on Homeland Security investigation found that some Chinese-made cranes</p>\n<p>The post <a href=\"https://warontherocks.com/2025/06/the-case-for-an-economic-fusion-center-to-prevent-strategic-surprise/\" rel=\"nofollow\">The Case for an Economic Fusion Center to Prevent Strategic Surprise</a> appeared first on <a href=\"https://warontherocks.com\" rel=\"nofollow\">War on the Rocks</a>.</p>"
        ],
        [
         "24",
         "Eye of the Storm? Revisiting IUU Fishing on the Global Stage",
         "https://warontherocks.com/2025/06/eye-of-the-storm-revisiting-iuu-fishing-on-the-global-stage/",
         "Fri, 27 Jun 2025 17:30:06 +0000",
         "<p>In 2022, Aaron Delano-Johnson and Chris Bernotavicius wrote &#8220;A Plan to Push Back Against China&#8217;s Fishing Practices,&#8221; where they argued that illegal, unregulated, and unreported fishing (IUUF) was a national security priority for the United States and the U.S. Coast Guard was well positioned to lead on the issue. Three years on, we asked them to reassess their argument.Image: Petty Officer 2nd Class Brandon Hillard via DVIDSIn your 2022 article, &#8220;A Plan to Push Back Against China&#8217;s Fishing Practices,&#8221; you argued the U.S. Coast Guard was well positioned to take the lead in fighting back against China&#8217;s illegal, unregulated, and</p>\n<p>The post <a href=\"https://warontherocks.com/2025/06/eye-of-the-storm-revisiting-iuu-fishing-on-the-global-stage/\" rel=\"nofollow\">Eye of the Storm? Revisiting IUU Fishing on the Global Stage</a> appeared first on <a href=\"https://warontherocks.com\" rel=\"nofollow\">War on the Rocks</a>.</p>",
         "WaronTheRocks",
         "Eye of the Storm? Revisiting IUU Fishing on the Global Stage <p>In 2022, Aaron Delano-Johnson and Chris Bernotavicius wrote &#8220;A Plan to Push Back Against China&#8217;s Fishing Practices,&#8221; where they argued that illegal, unregulated, and unreported fishing (IUUF) was a national security priority for the United States and the U.S. Coast Guard was well positioned to lead on the issue. Three years on, we asked them to reassess their argument.Image: Petty Officer 2nd Class Brandon Hillard via DVIDSIn your 2022 article, &#8220;A Plan to Push Back Against China&#8217;s Fishing Practices,&#8221; you argued the U.S. Coast Guard was well positioned to take the lead in fighting back against China&#8217;s illegal, unregulated, and</p>\n<p>The post <a href=\"https://warontherocks.com/2025/06/eye-of-the-storm-revisiting-iuu-fishing-on-the-global-stage/\" rel=\"nofollow\">Eye of the Storm? Revisiting IUU Fishing on the Global Stage</a> appeared first on <a href=\"https://warontherocks.com\" rel=\"nofollow\">War on the Rocks</a>.</p>"
        ],
        [
         "25",
         "The Double Power Law: How American Innovation Really Works",
         "https://warontherocks.com/2025/06/the-double-power-law-how-american-innovation-really-works/",
         "Fri, 27 Jun 2025 07:30:18 +0000",
         "<p>For nearly eight decades, the U.S. innovation ecosystem has been underpinned by a deliberately decentralized model of federal research support. Rooted in the vision laid out by Vannevar Bush in Science, The Endless Frontier, the model rests on a simple but profound premise: sustained public investment in basic research fuels private sector dynamism and long-term national competitiveness. Bush, writing in the aftermath of World War II, saw that wartime collaboration between academia and industry had borne rapid technological fruit &#8212; and wisely foresaw that the country would benefit from facilitating scientific inquiry not just during wartime, but also on an</p>\n<p>The post <a href=\"https://warontherocks.com/2025/06/the-double-power-law-how-american-innovation-really-works/\" rel=\"nofollow\">The Double Power Law: How American Innovation Really Works</a> appeared first on <a href=\"https://warontherocks.com\" rel=\"nofollow\">War on the Rocks</a>.</p>",
         "WaronTheRocks",
         "The Double Power Law: How American Innovation Really Works <p>For nearly eight decades, the U.S. innovation ecosystem has been underpinned by a deliberately decentralized model of federal research support. Rooted in the vision laid out by Vannevar Bush in Science, The Endless Frontier, the model rests on a simple but profound premise: sustained public investment in basic research fuels private sector dynamism and long-term national competitiveness. Bush, writing in the aftermath of World War II, saw that wartime collaboration between academia and industry had borne rapid technological fruit &#8212; and wisely foresaw that the country would benefit from facilitating scientific inquiry not just during wartime, but also on an</p>\n<p>The post <a href=\"https://warontherocks.com/2025/06/the-double-power-law-how-american-innovation-really-works/\" rel=\"nofollow\">The Double Power Law: How American Innovation Really Works</a> appeared first on <a href=\"https://warontherocks.com\" rel=\"nofollow\">War on the Rocks</a>.</p>"
        ],
        [
         "26",
         "Introducing “The Iran Reckoning with Afshon Ostovar”",
         "https://warontherocks.com/2025/06/introducing-the-iran-reckoning-with-afshon-ostovar/",
         "Thu, 26 Jun 2025 21:34:18 +0000",
         "<p>War on the Rocks is launching a new show called &#8220;The Iran Reckoning with Afshon Ostovar.&#8221; It&#8217;s a members-only show but this first episode is free for all. Join us as renowned Iran scholar Afshon Ostovar takes you inside one of America&#8217;s most complex and consequential adversaries. In this episode, Ryan introduces you to Afshon and his background (about the first 20 minutes) before discussing the ongoing war between Iran on one side and Israel and the United States on the other, and the unstable ceasefire that we currently find ourselves in. Much like the &#8220;The Russia Contingency with Michael</p>\n<p>The post <a href=\"https://warontherocks.com/2025/06/introducing-the-iran-reckoning-with-afshon-ostovar/\" rel=\"nofollow\">Introducing &#8220;The Iran Reckoning with Afshon Ostovar&#8221;</a> appeared first on <a href=\"https://warontherocks.com\" rel=\"nofollow\">War on the Rocks</a>.</p>",
         "WaronTheRocks",
         "Introducing “The Iran Reckoning with Afshon Ostovar” <p>War on the Rocks is launching a new show called &#8220;The Iran Reckoning with Afshon Ostovar.&#8221; It&#8217;s a members-only show but this first episode is free for all. Join us as renowned Iran scholar Afshon Ostovar takes you inside one of America&#8217;s most complex and consequential adversaries. In this episode, Ryan introduces you to Afshon and his background (about the first 20 minutes) before discussing the ongoing war between Iran on one side and Israel and the United States on the other, and the unstable ceasefire that we currently find ourselves in. Much like the &#8220;The Russia Contingency with Michael</p>\n<p>The post <a href=\"https://warontherocks.com/2025/06/introducing-the-iran-reckoning-with-afshon-ostovar/\" rel=\"nofollow\">Introducing &#8220;The Iran Reckoning with Afshon Ostovar&#8221;</a> appeared first on <a href=\"https://warontherocks.com\" rel=\"nofollow\">War on the Rocks</a>.</p>"
        ],
        [
         "27",
         "Rising Lion, Midnight Hammer, and the Global Response",
         "https://warontherocks.com/2025/06/rising-lion-midnight-hammer-and-the-global-response/",
         "Thu, 26 Jun 2025 17:30:55 +0000",
         "<p>Welcome to The Adversarial.&#160;Every other week, we&#8217;ll provide you with expert analysis on America&#8217;s greatest challengers: China, Russia, Iran, North Korea, and jihadists. Read more below.***IranOn June 13, Israel launched a major offensive against Iran using a combination of airpower and ground-based operatives. Operation Rising Lion struck a range of nuclear and military facilities, as well as the upper echelons of Iran&#8217;s military command and top nuclear experts. The United States joined in an offensive capacity just over a week later, hitting nuclear facilities at Natanz, Isfahan, and Fordo as part of Operation Midnight Hammer. Iran responded to Israel with</p>\n<p>The post <a href=\"https://warontherocks.com/2025/06/rising-lion-midnight-hammer-and-the-global-response/\" rel=\"nofollow\">Rising Lion, Midnight Hammer, and the Global Response</a> appeared first on <a href=\"https://warontherocks.com\" rel=\"nofollow\">War on the Rocks</a>.</p>",
         "WaronTheRocks",
         "Rising Lion, Midnight Hammer, and the Global Response <p>Welcome to The Adversarial.&#160;Every other week, we&#8217;ll provide you with expert analysis on America&#8217;s greatest challengers: China, Russia, Iran, North Korea, and jihadists. Read more below.***IranOn June 13, Israel launched a major offensive against Iran using a combination of airpower and ground-based operatives. Operation Rising Lion struck a range of nuclear and military facilities, as well as the upper echelons of Iran&#8217;s military command and top nuclear experts. The United States joined in an offensive capacity just over a week later, hitting nuclear facilities at Natanz, Isfahan, and Fordo as part of Operation Midnight Hammer. Iran responded to Israel with</p>\n<p>The post <a href=\"https://warontherocks.com/2025/06/rising-lion-midnight-hammer-and-the-global-response/\" rel=\"nofollow\">Rising Lion, Midnight Hammer, and the Global Response</a> appeared first on <a href=\"https://warontherocks.com\" rel=\"nofollow\">War on the Rocks</a>.</p>"
        ],
        [
         "28",
         "I Fought in Ukraine and Here’s Why FPV Drones Kind of Suck",
         "https://warontherocks.com/2025/06/i-fought-in-ukraine-and-heres-why-fpv-drones-kind-of-suck/",
         "Thu, 26 Jun 2025 07:30:53 +0000",
         "<p>In 2024 and 2025, I served for six months as an international volunteer on a first-person view attack drone team in the Armed Forces of Ukraine. My team was deployed in the Donbas region, in one of the hottest sectors of the front. When I joined the team, I was excited to work with a cutting-edge tool. By the end of my deployment, I was a bit disillusioned. Let me tell you why.First-person view drones are unmanned aerial vehicles with four propellers located at the four corners of the craft, roughly in the shape of a square of seven to</p>\n<p>The post <a href=\"https://warontherocks.com/2025/06/i-fought-in-ukraine-and-heres-why-fpv-drones-kind-of-suck/\" rel=\"nofollow\">I Fought in Ukraine and Here’s Why FPV Drones Kind of Suck</a> appeared first on <a href=\"https://warontherocks.com\" rel=\"nofollow\">War on the Rocks</a>.</p>",
         "WaronTheRocks",
         "I Fought in Ukraine and Here’s Why FPV Drones Kind of Suck <p>In 2024 and 2025, I served for six months as an international volunteer on a first-person view attack drone team in the Armed Forces of Ukraine. My team was deployed in the Donbas region, in one of the hottest sectors of the front. When I joined the team, I was excited to work with a cutting-edge tool. By the end of my deployment, I was a bit disillusioned. Let me tell you why.First-person view drones are unmanned aerial vehicles with four propellers located at the four corners of the craft, roughly in the shape of a square of seven to</p>\n<p>The post <a href=\"https://warontherocks.com/2025/06/i-fought-in-ukraine-and-heres-why-fpv-drones-kind-of-suck/\" rel=\"nofollow\">I Fought in Ukraine and Here’s Why FPV Drones Kind of Suck</a> appeared first on <a href=\"https://warontherocks.com\" rel=\"nofollow\">War on the Rocks</a>.</p>"
        ],
        [
         "29",
         "How to Think About the Future of War",
         "https://warontherocks.com/2025/06/how-to-think-about-the-future-of-war/",
         "Wed, 25 Jun 2025 19:13:02 +0000",
         "<p>Gen. Jim Rainey, the commander of Army Futures Command, joins Ryan to share how emerging technologies are set to transform the way America&#8217;s soldiers will fight and win. He also shares some key insights about the Army Transformation Initiative.Image: U.S. Army photo by Sgt. Alison Strout</p>\n<p>The post <a href=\"https://warontherocks.com/2025/06/how-to-think-about-the-future-of-war/\" rel=\"nofollow\">How to Think About the Future of War</a> appeared first on <a href=\"https://warontherocks.com\" rel=\"nofollow\">War on the Rocks</a>.</p>",
         "WaronTheRocks",
         "How to Think About the Future of War <p>Gen. Jim Rainey, the commander of Army Futures Command, joins Ryan to share how emerging technologies are set to transform the way America&#8217;s soldiers will fight and win. He also shares some key insights about the Army Transformation Initiative.Image: U.S. Army photo by Sgt. Alison Strout</p>\n<p>The post <a href=\"https://warontherocks.com/2025/06/how-to-think-about-the-future-of-war/\" rel=\"nofollow\">How to Think About the Future of War</a> appeared first on <a href=\"https://warontherocks.com\" rel=\"nofollow\">War on the Rocks</a>.</p>"
        ],
        [
         "30",
         "Why Recent Surprise Attacks Against Russia and Iran Should Worry Taiwan",
         "https://warontherocks.com/2025/06/why-recent-surprise-attacks-against-russia-and-iran-should-worry-taiwan/",
         "Wed, 25 Jun 2025 07:30:42 +0000",
         "<p>On June 1, Ukraine caught Russia off-guard with a bold series of drone strikes against five air bases inside of Russia. Weeks later, Israel initiated its ongoing air campaign against Iran&#8217;s nuclear program with an equally cunning attack on Iranian soil. These dramatic Trojan horse operations, replete with hidden weapons placed deep within their target&#8217;s territory, caught the world&#8217;s attention. Hopefully, Taipei took notice too. Taiwan must prepare for a range of potential contingencies. From gray zone incursions to naval blockades, and from long range strikes and offshore island grabs to a full-scale invasion: Chinese defense planners have options. Taiwan</p>\n<p>The post <a href=\"https://warontherocks.com/2025/06/why-recent-surprise-attacks-against-russia-and-iran-should-worry-taiwan/\" rel=\"nofollow\">Why Recent Surprise Attacks Against Russia and Iran Should Worry Taiwan</a> appeared first on <a href=\"https://warontherocks.com\" rel=\"nofollow\">War on the Rocks</a>.</p>",
         "WaronTheRocks",
         "Why Recent Surprise Attacks Against Russia and Iran Should Worry Taiwan <p>On June 1, Ukraine caught Russia off-guard with a bold series of drone strikes against five air bases inside of Russia. Weeks later, Israel initiated its ongoing air campaign against Iran&#8217;s nuclear program with an equally cunning attack on Iranian soil. These dramatic Trojan horse operations, replete with hidden weapons placed deep within their target&#8217;s territory, caught the world&#8217;s attention. Hopefully, Taipei took notice too. Taiwan must prepare for a range of potential contingencies. From gray zone incursions to naval blockades, and from long range strikes and offshore island grabs to a full-scale invasion: Chinese defense planners have options. Taiwan</p>\n<p>The post <a href=\"https://warontherocks.com/2025/06/why-recent-surprise-attacks-against-russia-and-iran-should-worry-taiwan/\" rel=\"nofollow\">Why Recent Surprise Attacks Against Russia and Iran Should Worry Taiwan</a> appeared first on <a href=\"https://warontherocks.com\" rel=\"nofollow\">War on the Rocks</a>.</p>"
        ],
        [
         "31",
         "The 2025 War on the Rocks Summer Fiction Reading List",
         "https://warontherocks.com/2025/06/the-2025-war-on-the-rocks-summer-fiction-reading-list/",
         "Wed, 25 Jun 2025 07:15:38 +0000",
         "<p>Forget the algorithm &#8212; this list was created by the humans who bring you War on the Rocks. Here, they share some of their favorite works of fiction. Kerry AndersonTrustee from the Toolroom, Nevil Shute (2010). An ordinary but fundamentally decent man ends up on an epic travel adventure. Published in 1960, the book can feel a bit old-fashioned but in a way that can be comforting in today&#8217;s world. It&#8217;s a great summer read.Circe, Madeline Miller (2018). Thanks to Pat Barker&#8217;s books, which I recommended for a previous&#160;War on the Rocks&#160;reading list, I&#8217;ve become very interested in re-interpretations of</p>\n<p>The post <a href=\"https://warontherocks.com/2025/06/the-2025-war-on-the-rocks-summer-fiction-reading-list/\" rel=\"nofollow\">The 2025 War on the Rocks Summer Fiction Reading List</a> appeared first on <a href=\"https://warontherocks.com\" rel=\"nofollow\">War on the Rocks</a>.</p>",
         "WaronTheRocks",
         "The 2025 War on the Rocks Summer Fiction Reading List <p>Forget the algorithm &#8212; this list was created by the humans who bring you War on the Rocks. Here, they share some of their favorite works of fiction. Kerry AndersonTrustee from the Toolroom, Nevil Shute (2010). An ordinary but fundamentally decent man ends up on an epic travel adventure. Published in 1960, the book can feel a bit old-fashioned but in a way that can be comforting in today&#8217;s world. It&#8217;s a great summer read.Circe, Madeline Miller (2018). Thanks to Pat Barker&#8217;s books, which I recommended for a previous&#160;War on the Rocks&#160;reading list, I&#8217;ve become very interested in re-interpretations of</p>\n<p>The post <a href=\"https://warontherocks.com/2025/06/the-2025-war-on-the-rocks-summer-fiction-reading-list/\" rel=\"nofollow\">The 2025 War on the Rocks Summer Fiction Reading List</a> appeared first on <a href=\"https://warontherocks.com\" rel=\"nofollow\">War on the Rocks</a>.</p>"
        ],
        [
         "32",
         "In a Changing Middle East, What Role Do Iran’s Partners Play?",
         "https://warontherocks.com/2025/06/in-a-changing-middle-east-what-role-do-irans-partners-play/",
         "Tue, 24 Jun 2025 17:30:37 +0000",
         "<p>Several of Iran&#8217;s longstanding regional partners &#8212; Hizballah, the Assad regime, and Hamas &#8212; have been significantly weakened or collapsed. This reality is likely one factor behind the Israeli decision to strike Iran earlier this month. However, Iran still has a capable partner in Yemen&#8217;s Houthis, and it retains a degree of regional influence. Amidst a shifting regional environment &#8212; which predates the current war with Iran and will have implications well into the future &#8212; we asked four experts to assess the current state of Iran&#8217;s partners and how they fit into Iran&#8217;s broader regional strategy.Read more below.&#160;Maria Fantappie</p>\n<p>The post <a href=\"https://warontherocks.com/2025/06/in-a-changing-middle-east-what-role-do-irans-partners-play/\" rel=\"nofollow\">In a Changing Middle East, What Role Do Iran’s Partners Play?</a> appeared first on <a href=\"https://warontherocks.com\" rel=\"nofollow\">War on the Rocks</a>.</p>",
         "WaronTheRocks",
         "In a Changing Middle East, What Role Do Iran’s Partners Play? <p>Several of Iran&#8217;s longstanding regional partners &#8212; Hizballah, the Assad regime, and Hamas &#8212; have been significantly weakened or collapsed. This reality is likely one factor behind the Israeli decision to strike Iran earlier this month. However, Iran still has a capable partner in Yemen&#8217;s Houthis, and it retains a degree of regional influence. Amidst a shifting regional environment &#8212; which predates the current war with Iran and will have implications well into the future &#8212; we asked four experts to assess the current state of Iran&#8217;s partners and how they fit into Iran&#8217;s broader regional strategy.Read more below.&#160;Maria Fantappie</p>\n<p>The post <a href=\"https://warontherocks.com/2025/06/in-a-changing-middle-east-what-role-do-irans-partners-play/\" rel=\"nofollow\">In a Changing Middle East, What Role Do Iran’s Partners Play?</a> appeared first on <a href=\"https://warontherocks.com\" rel=\"nofollow\">War on the Rocks</a>.</p>"
        ],
        [
         "33",
         "Marching to Different Drums: The Army’s Birthday Parade as Seen from China",
         "https://warontherocks.com/2025/06/marching-to-different-drums-the-armys-birthday-parade-as-seen-from-china/",
         "Tue, 24 Jun 2025 07:30:49 +0000",
         "<p>On June 14, 2025, the U.S. Army marked its 250th anniversary with a public parade in Washington. While billed as the Army&#8217;s celebration, the parade was unconventional in American terms. It featured corporate sponsors and was closely identified with President Donald Trump, falling on his birthday. Critics &#8212; ranging from veterans&#8217; groups to some members of Congress &#8212; viewed it as politically charged, drawing uncomfortably close to spectacles more akin to what we would see in authoritarian countries.Supporters, however, praised it as a tribute to the armed forces and a patriotic show of strength. Before the parade, Kori Schake &#8212;</p>\n<p>The post <a href=\"https://warontherocks.com/2025/06/marching-to-different-drums-the-armys-birthday-parade-as-seen-from-china/\" rel=\"nofollow\">Marching to Different Drums: The Army’s Birthday Parade as Seen from China</a> appeared first on <a href=\"https://warontherocks.com\" rel=\"nofollow\">War on the Rocks</a>.</p>",
         "WaronTheRocks",
         "Marching to Different Drums: The Army’s Birthday Parade as Seen from China <p>On June 14, 2025, the U.S. Army marked its 250th anniversary with a public parade in Washington. While billed as the Army&#8217;s celebration, the parade was unconventional in American terms. It featured corporate sponsors and was closely identified with President Donald Trump, falling on his birthday. Critics &#8212; ranging from veterans&#8217; groups to some members of Congress &#8212; viewed it as politically charged, drawing uncomfortably close to spectacles more akin to what we would see in authoritarian countries.Supporters, however, praised it as a tribute to the armed forces and a patriotic show of strength. Before the parade, Kori Schake &#8212;</p>\n<p>The post <a href=\"https://warontherocks.com/2025/06/marching-to-different-drums-the-armys-birthday-parade-as-seen-from-china/\" rel=\"nofollow\">Marching to Different Drums: The Army’s Birthday Parade as Seen from China</a> appeared first on <a href=\"https://warontherocks.com\" rel=\"nofollow\">War on the Rocks</a>.</p>"
        ],
        [
         "34",
         "We Need a Marine Corps, Part III: A Corps Recentered",
         "https://warontherocks.com/2025/06/we-need-a-marine-corps-part-iii-a-corps-recentered/",
         "Tue, 24 Jun 2025 07:15:39 +0000",
         "<p>Editor&#8217;s Note: This is the third in a series of three articles on the U.S. Marine Corps. The first article was published on June 16, 2025, and the second article was published on June 19, 2025.Commandant Eric Smith clearly articulated his vision for the future of the Marine Corps: While retaining focus on the China threat, the service will recenter on global crisis response. This means getting more marines &#8212; and more of their combat gear &#8212; on ship and deployed around the world. Smith believes marines should be America&#8217;s premier 9-1-1 force, just like they were before the &#8220;Global</p>\n<p>The post <a href=\"https://warontherocks.com/2025/06/we-need-a-marine-corps-part-iii-a-corps-recentered/\" rel=\"nofollow\">We Need a Marine Corps, Part III: A Corps Recentered</a> appeared first on <a href=\"https://warontherocks.com\" rel=\"nofollow\">War on the Rocks</a>.</p>",
         "WaronTheRocks",
         "We Need a Marine Corps, Part III: A Corps Recentered <p>Editor&#8217;s Note: This is the third in a series of three articles on the U.S. Marine Corps. The first article was published on June 16, 2025, and the second article was published on June 19, 2025.Commandant Eric Smith clearly articulated his vision for the future of the Marine Corps: While retaining focus on the China threat, the service will recenter on global crisis response. This means getting more marines &#8212; and more of their combat gear &#8212; on ship and deployed around the world. Smith believes marines should be America&#8217;s premier 9-1-1 force, just like they were before the &#8220;Global</p>\n<p>The post <a href=\"https://warontherocks.com/2025/06/we-need-a-marine-corps-part-iii-a-corps-recentered/\" rel=\"nofollow\">We Need a Marine Corps, Part III: A Corps Recentered</a> appeared first on <a href=\"https://warontherocks.com\" rel=\"nofollow\">War on the Rocks</a>.</p>"
        ],
        [
         "35",
         "Putting the Defense Industry Through Wargames",
         "https://warontherocks.com/2025/06/putting-the-defense-industry-through-wargames/",
         "Mon, 23 Jun 2025 08:00:37 +0000",
         "<p>The U.S. military is going through its &#8220;reps and sets&#8221; via training, exercises, and wargames to make sure it is ready for a major war. The defense industrial base is only just getting started on serious wargaming, and that needs to accelerate.Soldiers, sailors, airmen, marines, and guardians will need a durable industry &#8212; defense and otherwise &#8212; that can stay in the fight, especially a fight involving China, because it would likely be protracted and costly. The COVID-19 pandemic showed how easily commercial supply chains falter under stress, a problem that will be far worse in wartime.Testing industry through different</p>\n<p>The post <a href=\"https://warontherocks.com/2025/06/putting-the-defense-industry-through-wargames/\" rel=\"nofollow\">Putting the Defense Industry Through Wargames</a> appeared first on <a href=\"https://warontherocks.com\" rel=\"nofollow\">War on the Rocks</a>.</p>",
         "WaronTheRocks",
         "Putting the Defense Industry Through Wargames <p>The U.S. military is going through its &#8220;reps and sets&#8221; via training, exercises, and wargames to make sure it is ready for a major war. The defense industrial base is only just getting started on serious wargaming, and that needs to accelerate.Soldiers, sailors, airmen, marines, and guardians will need a durable industry &#8212; defense and otherwise &#8212; that can stay in the fight, especially a fight involving China, because it would likely be protracted and costly. The COVID-19 pandemic showed how easily commercial supply chains falter under stress, a problem that will be far worse in wartime.Testing industry through different</p>\n<p>The post <a href=\"https://warontherocks.com/2025/06/putting-the-defense-industry-through-wargames/\" rel=\"nofollow\">Putting the Defense Industry Through Wargames</a> appeared first on <a href=\"https://warontherocks.com\" rel=\"nofollow\">War on the Rocks</a>.</p>"
        ],
        [
         "36",
         "The Meaning of Drone-Enabled Infantry Striking Beyond Line of Sight",
         "https://warontherocks.com/2025/06/the-meaning-of-drone-enabled-infantry-striking-beyond-line-of-sight/",
         "Mon, 23 Jun 2025 07:30:07 +0000",
         "<p>For centuries, infantry attacks have begun with a cacophony of eardrum-splitting gunfire. However, today, many engagements are initiated by the unflinching eyes of drones.Now the ability of infantry to effectively engage targets is no longer limited to human soldiers&#8217; line of sight. While weapon systems such as mortars, anti-tank guided missiles, man-portable rockets, and grenade launchers fired at high angles significantly extended engagement ranges, they still required a human soldier to be present with the weapon system to operate it or needed a forward observer to see, acquire, and coordinate effective fires. What distinguishes drone-enabled infantry is the fusion of</p>\n<p>The post <a href=\"https://warontherocks.com/2025/06/the-meaning-of-drone-enabled-infantry-striking-beyond-line-of-sight/\" rel=\"nofollow\">The Meaning of Drone-Enabled Infantry Striking Beyond Line of Sight</a> appeared first on <a href=\"https://warontherocks.com\" rel=\"nofollow\">War on the Rocks</a>.</p>",
         "WaronTheRocks",
         "The Meaning of Drone-Enabled Infantry Striking Beyond Line of Sight <p>For centuries, infantry attacks have begun with a cacophony of eardrum-splitting gunfire. However, today, many engagements are initiated by the unflinching eyes of drones.Now the ability of infantry to effectively engage targets is no longer limited to human soldiers&#8217; line of sight. While weapon systems such as mortars, anti-tank guided missiles, man-portable rockets, and grenade launchers fired at high angles significantly extended engagement ranges, they still required a human soldier to be present with the weapon system to operate it or needed a forward observer to see, acquire, and coordinate effective fires. What distinguishes drone-enabled infantry is the fusion of</p>\n<p>The post <a href=\"https://warontherocks.com/2025/06/the-meaning-of-drone-enabled-infantry-striking-beyond-line-of-sight/\" rel=\"nofollow\">The Meaning of Drone-Enabled Infantry Striking Beyond Line of Sight</a> appeared first on <a href=\"https://warontherocks.com\" rel=\"nofollow\">War on the Rocks</a>.</p>"
        ],
        [
         "37",
         "Intelligence, Strategy, and the Israeli-Iranian War",
         "https://warontherocks.com/2025/06/intelligence-strategy-and-the-israeli-iranian-war/",
         "Fri, 20 Jun 2025 07:30:13 +0000",
         "<p>States use intelligence to inform their strategic decisions &#8212; and to influence their friends. Israel has a long history of passing secret intelligence to the United States in order to win its support, and according to multiple reports, it is trying again. The White House is more likely to join the war against Iran if it accepts Israeli intelligence at face value. But in doing so, it will sacrifice its strategic flexibility and risk losing diplomatic leverage. For a president who cherishes bargaining power, this would be a grave mistake.History helps shed light on the relationship between intelligence, strategy, and</p>\n<p>The post <a href=\"https://warontherocks.com/2025/06/intelligence-strategy-and-the-israeli-iranian-war/\" rel=\"nofollow\">Intelligence, Strategy, and the Israeli-Iranian War</a> appeared first on <a href=\"https://warontherocks.com\" rel=\"nofollow\">War on the Rocks</a>.</p>",
         "WaronTheRocks",
         "Intelligence, Strategy, and the Israeli-Iranian War <p>States use intelligence to inform their strategic decisions &#8212; and to influence their friends. Israel has a long history of passing secret intelligence to the United States in order to win its support, and according to multiple reports, it is trying again. The White House is more likely to join the war against Iran if it accepts Israeli intelligence at face value. But in doing so, it will sacrifice its strategic flexibility and risk losing diplomatic leverage. For a president who cherishes bargaining power, this would be a grave mistake.History helps shed light on the relationship between intelligence, strategy, and</p>\n<p>The post <a href=\"https://warontherocks.com/2025/06/intelligence-strategy-and-the-israeli-iranian-war/\" rel=\"nofollow\">Intelligence, Strategy, and the Israeli-Iranian War</a> appeared first on <a href=\"https://warontherocks.com\" rel=\"nofollow\">War on the Rocks</a>.</p>"
        ],
        [
         "38",
         "How the Arsenal of Democracy Can Get Back on its Feet with Some Help from the Past",
         "https://warontherocks.com/2025/06/how-the-arsenal-of-democracy-can-get-back-on-its-feet-with-some-help-from-the-past/",
         "Thu, 19 Jun 2025 14:00:51 +0000",
         "<p>More than a decade before American troops fought their way ashore in Normandy and Okinawa, the U.S. military noted that &#8220;the success of a modern fighting force is directly and immediately dependent on the ability of the Nation&#8217;s resources to satisfy promptly its requirement in munitions.&#8221;Eighty years later, the Defense Department has not lived up to that maxim. With arms transfers to Ukraine and military operations in the Red Sea exposing the deficiencies of U.S. arms production, Washington is awash with recommendations to bolster, strengthen, or otherwise revitalize the defense industrial base.But these may be too little and too late.</p>\n<p>The post <a href=\"https://warontherocks.com/2025/06/how-the-arsenal-of-democracy-can-get-back-on-its-feet-with-some-help-from-the-past/\" rel=\"nofollow\">How the Arsenal of Democracy Can Get Back on its Feet with Some Help from the Past</a> appeared first on <a href=\"https://warontherocks.com\" rel=\"nofollow\">War on the Rocks</a>.</p>",
         "WaronTheRocks",
         "How the Arsenal of Democracy Can Get Back on its Feet with Some Help from the Past <p>More than a decade before American troops fought their way ashore in Normandy and Okinawa, the U.S. military noted that &#8220;the success of a modern fighting force is directly and immediately dependent on the ability of the Nation&#8217;s resources to satisfy promptly its requirement in munitions.&#8221;Eighty years later, the Defense Department has not lived up to that maxim. With arms transfers to Ukraine and military operations in the Red Sea exposing the deficiencies of U.S. arms production, Washington is awash with recommendations to bolster, strengthen, or otherwise revitalize the defense industrial base.But these may be too little and too late.</p>\n<p>The post <a href=\"https://warontherocks.com/2025/06/how-the-arsenal-of-democracy-can-get-back-on-its-feet-with-some-help-from-the-past/\" rel=\"nofollow\">How the Arsenal of Democracy Can Get Back on its Feet with Some Help from the Past</a> appeared first on <a href=\"https://warontherocks.com\" rel=\"nofollow\">War on the Rocks</a>.</p>"
        ],
        [
         "39",
         "Three Alternative Approaches to Deterrence in Europe and the Indo-Pacific",
         "https://warontherocks.com/2025/06/three-alternative-approaches-to-deterrence-in-europe-and-the-indo-pacific/",
         "Thu, 19 Jun 2025 07:30:19 +0000",
         "<p>Whether the United States defines China as a global threat or a predominantly regional one will have pervasive implications for U.S. alliance and deterrence strategy in Europe and the Indo-Pacific. The second Trump and Biden administrations agree on a key fact: China constitutes the most serious and systemic challenge to U.S. power and interests. Yet, they seem to disagree on how to characterize the nature and scale of that challenge. Whereas the Biden administration construed China as a global challenge, the Trump administration regularly emphasizes the centrality of the China threat in the Indo-Pacific.Against this backdrop, President Donald Trump&#8217;s insistence</p>\n<p>The post <a href=\"https://warontherocks.com/2025/06/three-alternative-approaches-to-deterrence-in-europe-and-the-indo-pacific/\" rel=\"nofollow\">Three Alternative Approaches to Deterrence in Europe and the Indo-Pacific</a> appeared first on <a href=\"https://warontherocks.com\" rel=\"nofollow\">War on the Rocks</a>.</p>",
         "WaronTheRocks",
         "Three Alternative Approaches to Deterrence in Europe and the Indo-Pacific <p>Whether the United States defines China as a global threat or a predominantly regional one will have pervasive implications for U.S. alliance and deterrence strategy in Europe and the Indo-Pacific. The second Trump and Biden administrations agree on a key fact: China constitutes the most serious and systemic challenge to U.S. power and interests. Yet, they seem to disagree on how to characterize the nature and scale of that challenge. Whereas the Biden administration construed China as a global challenge, the Trump administration regularly emphasizes the centrality of the China threat in the Indo-Pacific.Against this backdrop, President Donald Trump&#8217;s insistence</p>\n<p>The post <a href=\"https://warontherocks.com/2025/06/three-alternative-approaches-to-deterrence-in-europe-and-the-indo-pacific/\" rel=\"nofollow\">Three Alternative Approaches to Deterrence in Europe and the Indo-Pacific</a> appeared first on <a href=\"https://warontherocks.com\" rel=\"nofollow\">War on the Rocks</a>.</p>"
        ],
        [
         "40",
         "We Need a Marine Corps, Part II: A Corps Confounded",
         "https://warontherocks.com/2025/06/we-need-a-marine-corps-part-ii-a-corps-confounded/",
         "Thu, 19 Jun 2025 07:15:51 +0000",
         "<p>Editor&#8217;s Note: This is the second in a series of three articles on the U.S. Marine Corps. The first article was published on June 16, 2025.In just over 20 years, the Marine Corps has gone from being America&#8217;s reliable middleweight force in readiness to more of a secondary, general purpose backup force. Today, marines are more likely to find themselves assisting special operations teams and U.S. Army crisis response task forces than spearheading operations. Without meaningful change, a dangerous question resurfaces: &#8220;Why do we need a Marine Corps?&#8221;In the first article in this series, I argued that there is an</p>\n<p>The post <a href=\"https://warontherocks.com/2025/06/we-need-a-marine-corps-part-ii-a-corps-confounded/\" rel=\"nofollow\">We Need a Marine Corps, Part II: A Corps Confounded</a> appeared first on <a href=\"https://warontherocks.com\" rel=\"nofollow\">War on the Rocks</a>.</p>",
         "WaronTheRocks",
         "We Need a Marine Corps, Part II: A Corps Confounded <p>Editor&#8217;s Note: This is the second in a series of three articles on the U.S. Marine Corps. The first article was published on June 16, 2025.In just over 20 years, the Marine Corps has gone from being America&#8217;s reliable middleweight force in readiness to more of a secondary, general purpose backup force. Today, marines are more likely to find themselves assisting special operations teams and U.S. Army crisis response task forces than spearheading operations. Without meaningful change, a dangerous question resurfaces: &#8220;Why do we need a Marine Corps?&#8221;In the first article in this series, I argued that there is an</p>\n<p>The post <a href=\"https://warontherocks.com/2025/06/we-need-a-marine-corps-part-ii-a-corps-confounded/\" rel=\"nofollow\">We Need a Marine Corps, Part II: A Corps Confounded</a> appeared first on <a href=\"https://warontherocks.com\" rel=\"nofollow\">War on the Rocks</a>.</p>"
        ],
        [
         "41",
         "Making Professional Military Education More Agile in the Air Force",
         "https://warontherocks.com/2025/06/making-professional-military-education-more-agile-in-the-air-force/",
         "Thu, 19 Jun 2025 00:04:01 +0000",
         "<p>Lt. Gen. Andrea Tullos joined Ryan at WOTR HQ to talk about her experience and insights into professional military education, both for the joint force and especially the Air Force. She shares what Air University, which she commands, has been doing to optimize its mission for competition with China, the pacing threat, and a high intensity fight where sanctuary areas are scarce if they exist at all. Tullos also explains how Air University and the LeMay Center feed into Agile Combat Employment &#8212; the Air Force&#8217;s vision for rapid, dispersed deployment of combat power to increase survivability and adaptability&#160;&#8212;&#160; as</p>\n<p>The post <a href=\"https://warontherocks.com/2025/06/making-professional-military-education-more-agile-in-the-air-force/\" rel=\"nofollow\">Making Professional Military Education More Agile in the Air Force</a> appeared first on <a href=\"https://warontherocks.com\" rel=\"nofollow\">War on the Rocks</a>.</p>",
         "WaronTheRocks",
         "Making Professional Military Education More Agile in the Air Force <p>Lt. Gen. Andrea Tullos joined Ryan at WOTR HQ to talk about her experience and insights into professional military education, both for the joint force and especially the Air Force. She shares what Air University, which she commands, has been doing to optimize its mission for competition with China, the pacing threat, and a high intensity fight where sanctuary areas are scarce if they exist at all. Tullos also explains how Air University and the LeMay Center feed into Agile Combat Employment &#8212; the Air Force&#8217;s vision for rapid, dispersed deployment of combat power to increase survivability and adaptability&#160;&#8212;&#160; as</p>\n<p>The post <a href=\"https://warontherocks.com/2025/06/making-professional-military-education-more-agile-in-the-air-force/\" rel=\"nofollow\">Making Professional Military Education More Agile in the Air Force</a> appeared first on <a href=\"https://warontherocks.com\" rel=\"nofollow\">War on the Rocks</a>.</p>"
        ],
        [
         "42",
         "Revisiting the Implications of Iran’s Long-Range Weapons Capabilities",
         "https://warontherocks.com/2025/06/revisiting-the-implications-of-irans-long-range-weapons-capabilities/",
         "Wed, 18 Jun 2025 18:00:18 +0000",
         "<p>In his 2022 article, &#8220;New Missiles, New Risks: The Escalatory Implications of Iran&#8217;s Precision-Strike Weapons,&#8221; Jim Lamson argued that Iran&#8217;s acquisition of precision strike weapons had altered the balance of power in the Middle East. Three years on, and in the wake of several waves of ballistic missile attacks on Israel, we asked Jim to reevaluate his analysis.Note: Given the fluidity of the situation in the Middle East, this article was originally published on Wednesday, June 18, 2025.Image:&#160;Islamic Republic News AgencyIn your 2022 article, &#8220;New Missiles, New Risks: The Escalatory Implications of Iran&#8217;s Precision-Strike Weapons,&#8221; you argued that Iran&#8217;s acquisition</p>\n<p>The post <a href=\"https://warontherocks.com/2025/06/revisiting-the-implications-of-irans-long-range-weapons-capabilities/\" rel=\"nofollow\">Revisiting the Implications of Iran’s Long-Range Weapons Capabilities</a> appeared first on <a href=\"https://warontherocks.com\" rel=\"nofollow\">War on the Rocks</a>.</p>",
         "WaronTheRocks",
         "Revisiting the Implications of Iran’s Long-Range Weapons Capabilities <p>In his 2022 article, &#8220;New Missiles, New Risks: The Escalatory Implications of Iran&#8217;s Precision-Strike Weapons,&#8221; Jim Lamson argued that Iran&#8217;s acquisition of precision strike weapons had altered the balance of power in the Middle East. Three years on, and in the wake of several waves of ballistic missile attacks on Israel, we asked Jim to reevaluate his analysis.Note: Given the fluidity of the situation in the Middle East, this article was originally published on Wednesday, June 18, 2025.Image:&#160;Islamic Republic News AgencyIn your 2022 article, &#8220;New Missiles, New Risks: The Escalatory Implications of Iran&#8217;s Precision-Strike Weapons,&#8221; you argued that Iran&#8217;s acquisition</p>\n<p>The post <a href=\"https://warontherocks.com/2025/06/revisiting-the-implications-of-irans-long-range-weapons-capabilities/\" rel=\"nofollow\">Revisiting the Implications of Iran’s Long-Range Weapons Capabilities</a> appeared first on <a href=\"https://warontherocks.com\" rel=\"nofollow\">War on the Rocks</a>.</p>"
        ],
        [
         "43",
         "America’s Middle East Trap is China’s Strategic Windfall",
         "https://warontherocks.com/2025/06/americas-middle-east-trap-is-chinas-strategic-windfall/",
         "Wed, 18 Jun 2025 07:30:25 +0000",
         "<p>As another carrier strike group steams to the Middle East and F-35 squadrons position themselves in the region with tankers, the American people should think hard about whether President Donald Trump is allowing the Middle East to overshadow blinking red priorities in the Indo-Pacific.Beijing has systematically exploited America&#8217;s Middle East quagmires, turning each crisis into a strategic windfall. The Trump administration now faces a critical choice: de-escalate Middle East tensions or watch China continue capitalizing on Washington&#8217;s undisciplined policymaking.&#160;&#160;The symbolism of diverting military assets to the Middle East is not lost on Beijing or American allies in the Indo-Pacific. Among</p>\n<p>The post <a href=\"https://warontherocks.com/2025/06/americas-middle-east-trap-is-chinas-strategic-windfall/\" rel=\"nofollow\">America’s Middle East Trap is China’s Strategic Windfall</a> appeared first on <a href=\"https://warontherocks.com\" rel=\"nofollow\">War on the Rocks</a>.</p>",
         "WaronTheRocks",
         "America’s Middle East Trap is China’s Strategic Windfall <p>As another carrier strike group steams to the Middle East and F-35 squadrons position themselves in the region with tankers, the American people should think hard about whether President Donald Trump is allowing the Middle East to overshadow blinking red priorities in the Indo-Pacific.Beijing has systematically exploited America&#8217;s Middle East quagmires, turning each crisis into a strategic windfall. The Trump administration now faces a critical choice: de-escalate Middle East tensions or watch China continue capitalizing on Washington&#8217;s undisciplined policymaking.&#160;&#160;The symbolism of diverting military assets to the Middle East is not lost on Beijing or American allies in the Indo-Pacific. Among</p>\n<p>The post <a href=\"https://warontherocks.com/2025/06/americas-middle-east-trap-is-chinas-strategic-windfall/\" rel=\"nofollow\">America’s Middle East Trap is China’s Strategic Windfall</a> appeared first on <a href=\"https://warontherocks.com\" rel=\"nofollow\">War on the Rocks</a>.</p>"
        ],
        [
         "44",
         "Flying, But Not Fused: Closing the Drone Gap in the Marine Corps",
         "https://warontherocks.com/2025/06/flying-but-not-fused-closing-the-drone-gap-in-the-marine-corps/",
         "Wed, 18 Jun 2025 07:15:37 +0000",
         "<p>Imagine a $30 million drone, capable of seeing for many miles and staying airborne for nearly a day, circling overhead while marines on the ground remain unaware of its presence or potential. This isn&#8217;t a hypothetical scenario, it&#8217;s a reality plaguing the Marine Corps&#8217; MQ-9A program.After years of development, Marine Unmanned Aerial Vehicle Squadron Three began sustained flight operations from Kadena Air Base in Okinawa in 2023, marking the first deployment of a Marine-operated MQ-9 in the Indo-Pacific. In 2024, Marine Unmanned Aerial Vehicle Squadron One expanded that presence with a deployment to the Philippines. Together, these units now fly</p>\n<p>The post <a href=\"https://warontherocks.com/2025/06/flying-but-not-fused-closing-the-drone-gap-in-the-marine-corps/\" rel=\"nofollow\">Flying, But Not Fused: Closing the Drone Gap in the Marine Corps</a> appeared first on <a href=\"https://warontherocks.com\" rel=\"nofollow\">War on the Rocks</a>.</p>",
         "WaronTheRocks",
         "Flying, But Not Fused: Closing the Drone Gap in the Marine Corps <p>Imagine a $30 million drone, capable of seeing for many miles and staying airborne for nearly a day, circling overhead while marines on the ground remain unaware of its presence or potential. This isn&#8217;t a hypothetical scenario, it&#8217;s a reality plaguing the Marine Corps&#8217; MQ-9A program.After years of development, Marine Unmanned Aerial Vehicle Squadron Three began sustained flight operations from Kadena Air Base in Okinawa in 2023, marking the first deployment of a Marine-operated MQ-9 in the Indo-Pacific. In 2024, Marine Unmanned Aerial Vehicle Squadron One expanded that presence with a deployment to the Philippines. Together, these units now fly</p>\n<p>The post <a href=\"https://warontherocks.com/2025/06/flying-but-not-fused-closing-the-drone-gap-in-the-marine-corps/\" rel=\"nofollow\">Flying, But Not Fused: Closing the Drone Gap in the Marine Corps</a> appeared first on <a href=\"https://warontherocks.com\" rel=\"nofollow\">War on the Rocks</a>.</p>"
        ],
        [
         "45",
         "The Israeli-Iranian War: How We Got Here & What It Means",
         "https://warontherocks.com/2025/06/the-israeli-iranian-war-how-we-got-here-what-it-means/",
         "Tue, 17 Jun 2025 19:22:03 +0000",
         "<p>Israel&#8217;s strikes against Iran&#8217;s military and nuclear infrastructure, as well as its key military and security leadership, shocked the world. How did we arrive here? What did the Israeli strikes accomplish? What options does Iran have? How did the Iranian-U.S. nuclear talks fail to forestall this? Will the United States become a party to the conflict? What about the Russian and Iraqi dimensions? Nicole Grajewski of&#160;the Carnegie Endowment for International Peace&#160;and&#160;Rachel Brandenburg of the&#160;Israel Policy Forum joined Ryan to answer these questions and more.This episode was recorded the morning of June 17, and events are fast-moving, but this is still</p>\n<p>The post <a href=\"https://warontherocks.com/2025/06/the-israeli-iranian-war-how-we-got-here-what-it-means/\" rel=\"nofollow\">The Israeli-Iranian War: How We Got Here &#038; What It Means</a> appeared first on <a href=\"https://warontherocks.com\" rel=\"nofollow\">War on the Rocks</a>.</p>",
         "WaronTheRocks",
         "The Israeli-Iranian War: How We Got Here & What It Means <p>Israel&#8217;s strikes against Iran&#8217;s military and nuclear infrastructure, as well as its key military and security leadership, shocked the world. How did we arrive here? What did the Israeli strikes accomplish? What options does Iran have? How did the Iranian-U.S. nuclear talks fail to forestall this? Will the United States become a party to the conflict? What about the Russian and Iraqi dimensions? Nicole Grajewski of&#160;the Carnegie Endowment for International Peace&#160;and&#160;Rachel Brandenburg of the&#160;Israel Policy Forum joined Ryan to answer these questions and more.This episode was recorded the morning of June 17, and events are fast-moving, but this is still</p>\n<p>The post <a href=\"https://warontherocks.com/2025/06/the-israeli-iranian-war-how-we-got-here-what-it-means/\" rel=\"nofollow\">The Israeli-Iranian War: How We Got Here &#038; What It Means</a> appeared first on <a href=\"https://warontherocks.com\" rel=\"nofollow\">War on the Rocks</a>.</p>"
        ],
        [
         "46",
         "Steps Toward Golden Dome",
         "https://warontherocks.com/2025/06/in-brief-steps-toward-golden-dome/",
         "Tue, 17 Jun 2025 17:30:54 +0000",
         "<p>On Jan. 27, U.S. President Donald Trump issued an executive order requiring that the military develop a &#8220;missile defense shield&#8221; to protect the U.S. homeland &#8212; now dubbed &#8220;Golden Dome.&#8221; While any such system will require several years for full implementation, Secretary of Defense Pete Hegseth said in May that the Defense Department is &#8220;working with Congress to secure $25B of funding in the One Big Beautiful reconciliation bill&#8221; toward Golden Dome capabilities. Multiple defense and tech companies have expressed interest in competing for government contracts as part of the Golden Dome effort.As efforts to develop Golden Dome get underway,</p>\n<p>The post <a href=\"https://warontherocks.com/2025/06/in-brief-steps-toward-golden-dome/\" rel=\"nofollow\">Steps Toward Golden Dome</a> appeared first on <a href=\"https://warontherocks.com\" rel=\"nofollow\">War on the Rocks</a>.</p>",
         "WaronTheRocks",
         "Steps Toward Golden Dome <p>On Jan. 27, U.S. President Donald Trump issued an executive order requiring that the military develop a &#8220;missile defense shield&#8221; to protect the U.S. homeland &#8212; now dubbed &#8220;Golden Dome.&#8221; While any such system will require several years for full implementation, Secretary of Defense Pete Hegseth said in May that the Defense Department is &#8220;working with Congress to secure $25B of funding in the One Big Beautiful reconciliation bill&#8221; toward Golden Dome capabilities. Multiple defense and tech companies have expressed interest in competing for government contracts as part of the Golden Dome effort.As efforts to develop Golden Dome get underway,</p>\n<p>The post <a href=\"https://warontherocks.com/2025/06/in-brief-steps-toward-golden-dome/\" rel=\"nofollow\">Steps Toward Golden Dome</a> appeared first on <a href=\"https://warontherocks.com\" rel=\"nofollow\">War on the Rocks</a>.</p>"
        ],
        [
         "47",
         "Steel and Silicon: Shipbuilding’s Defense Tech Moment",
         "https://warontherocks.com/2025/06/steel-and-silicon-shipbuildings-defense-tech-moment/",
         "Tue, 17 Jun 2025 08:00:09 +0000",
         "<p>Can the American military maintain deterrence in East Asia without fixing its shipbuilding? The U.S. Navy&#8217;s fleet is rusting and shrinking, while China&#8217;s grows. Last week, new data showed Chinese shipbuilding again accelerating relative to American, with 54 percent of global output, up from 35 percent a decade ago. &#8220;All of our programs are a mess,&#8221; said Secretary of the Navy John Phelan before the Senate. Chinese military planners may conclude it is time to risk their fleet against America&#8217;s. Without strong shipbuilding, the Pentagon may hesitate to commit a fleet it cannot regenerate.Into this tense moment steps a new</p>\n<p>The post <a href=\"https://warontherocks.com/2025/06/steel-and-silicon-shipbuildings-defense-tech-moment/\" rel=\"nofollow\">Steel and Silicon: Shipbuilding’s Defense Tech Moment</a> appeared first on <a href=\"https://warontherocks.com\" rel=\"nofollow\">War on the Rocks</a>.</p>",
         "WaronTheRocks",
         "Steel and Silicon: Shipbuilding’s Defense Tech Moment <p>Can the American military maintain deterrence in East Asia without fixing its shipbuilding? The U.S. Navy&#8217;s fleet is rusting and shrinking, while China&#8217;s grows. Last week, new data showed Chinese shipbuilding again accelerating relative to American, with 54 percent of global output, up from 35 percent a decade ago. &#8220;All of our programs are a mess,&#8221; said Secretary of the Navy John Phelan before the Senate. Chinese military planners may conclude it is time to risk their fleet against America&#8217;s. Without strong shipbuilding, the Pentagon may hesitate to commit a fleet it cannot regenerate.Into this tense moment steps a new</p>\n<p>The post <a href=\"https://warontherocks.com/2025/06/steel-and-silicon-shipbuildings-defense-tech-moment/\" rel=\"nofollow\">Steel and Silicon: Shipbuilding’s Defense Tech Moment</a> appeared first on <a href=\"https://warontherocks.com\" rel=\"nofollow\">War on the Rocks</a>.</p>"
        ],
        [
         "48",
         "How the Army Is Putting the Commander Back in Command and Control",
         "https://warontherocks.com/2025/06/how-the-army-is-putting-the-commander-back-in-command-and-control/",
         "Tue, 17 Jun 2025 07:30:51 +0000",
         "<p>The U.S.&#160;Army doesn&#8217;t have a data problem. But it does have a &#8220;data-in-the-right-place-in-a-usable-format&#8221; problem. And that matters for decision-making in future war.Think about all the places we have tactical warfighting information. In some cases, it&#8217;s in a stove-piped, warfighting-system-specific program. In other cases, it&#8217;s in a green notebook in a platoon sergeant&#8217;s cargo pocket or written on a piece of cardboard. We have the data, but it&#8217;s not in the hands or on the screen of the commander who needs it. Too often, we have to extract the data from the place that it&#8217;s in, translate it, manipulate it in</p>\n<p>The post <a href=\"https://warontherocks.com/2025/06/how-the-army-is-putting-the-commander-back-in-command-and-control/\" rel=\"nofollow\">How the Army Is Putting the Commander Back in Command and Control</a> appeared first on <a href=\"https://warontherocks.com\" rel=\"nofollow\">War on the Rocks</a>.</p>",
         "WaronTheRocks",
         "How the Army Is Putting the Commander Back in Command and Control <p>The U.S.&#160;Army doesn&#8217;t have a data problem. But it does have a &#8220;data-in-the-right-place-in-a-usable-format&#8221; problem. And that matters for decision-making in future war.Think about all the places we have tactical warfighting information. In some cases, it&#8217;s in a stove-piped, warfighting-system-specific program. In other cases, it&#8217;s in a green notebook in a platoon sergeant&#8217;s cargo pocket or written on a piece of cardboard. We have the data, but it&#8217;s not in the hands or on the screen of the commander who needs it. Too often, we have to extract the data from the place that it&#8217;s in, translate it, manipulate it in</p>\n<p>The post <a href=\"https://warontherocks.com/2025/06/how-the-army-is-putting-the-commander-back-in-command-and-control/\" rel=\"nofollow\">How the Army Is Putting the Commander Back in Command and Control</a> appeared first on <a href=\"https://warontherocks.com\" rel=\"nofollow\">War on the Rocks</a>.</p>"
        ],
        [
         "49",
         "The Future of Software-Defined Warfare",
         "https://warontherocks.com/2025/06/the-future-of-software-defined-warfare/",
         "Mon, 16 Jun 2025 08:30:20 +0000",
         "<p>How can you bring together technical directors, military officials, and competing commercial interests to craft effective defense tech policy? Whitney McNamara and Stephen Rodriguez, the co-author and commission director of the Atlantic Council&#8217;s Commission on Software-Defined Warfare, sit down with Ryan to talk about guiding tech adoption and more in government and defense.Subscribe to the Cogs of War feed on Spotify, Apple Podcasts, or your podcast player of choice today.Image: Midjourney</p>\n<p>The post <a href=\"https://warontherocks.com/2025/06/the-future-of-software-defined-warfare/\" rel=\"nofollow\">The Future of Software-Defined Warfare</a> appeared first on <a href=\"https://warontherocks.com\" rel=\"nofollow\">War on the Rocks</a>.</p>",
         "WaronTheRocks",
         "The Future of Software-Defined Warfare <p>How can you bring together technical directors, military officials, and competing commercial interests to craft effective defense tech policy? Whitney McNamara and Stephen Rodriguez, the co-author and commission director of the Atlantic Council&#8217;s Commission on Software-Defined Warfare, sit down with Ryan to talk about guiding tech adoption and more in government and defense.Subscribe to the Cogs of War feed on Spotify, Apple Podcasts, or your podcast player of choice today.Image: Midjourney</p>\n<p>The post <a href=\"https://warontherocks.com/2025/06/the-future-of-software-defined-warfare/\" rel=\"nofollow\">The Future of Software-Defined Warfare</a> appeared first on <a href=\"https://warontherocks.com\" rel=\"nofollow\">War on the Rocks</a>.</p>"
        ]
       ],
       "shape": {
        "columns": 6,
        "rows": 348
       }
      },
      "text/html": [
       "<div>\n",
       "<style scoped>\n",
       "    .dataframe tbody tr th:only-of-type {\n",
       "        vertical-align: middle;\n",
       "    }\n",
       "\n",
       "    .dataframe tbody tr th {\n",
       "        vertical-align: top;\n",
       "    }\n",
       "\n",
       "    .dataframe thead th {\n",
       "        text-align: right;\n",
       "    }\n",
       "</style>\n",
       "<table border=\"1\" class=\"dataframe\">\n",
       "  <thead>\n",
       "    <tr style=\"text-align: right;\">\n",
       "      <th></th>\n",
       "      <th>title</th>\n",
       "      <th>link</th>\n",
       "      <th>published</th>\n",
       "      <th>summary</th>\n",
       "      <th>source</th>\n",
       "      <th>text</th>\n",
       "    </tr>\n",
       "  </thead>\n",
       "  <tbody>\n",
       "    <tr>\n",
       "      <th>0</th>\n",
       "      <td>How Iran Overplayed its Hand</td>\n",
       "      <td>https://warontherocks.com/2025/07/how-iran-ove...</td>\n",
       "      <td>Mon, 14 Jul 2025 07:30:27 +0000</td>\n",
       "      <td>&lt;p&gt;After Israel struck Iran&amp;#8217;s nuclear fa...</td>\n",
       "      <td>WaronTheRocks</td>\n",
       "      <td>How Iran Overplayed its Hand &lt;p&gt;After Israel s...</td>\n",
       "    </tr>\n",
       "    <tr>\n",
       "      <th>1</th>\n",
       "      <td>Small State, Big Stakes: The Maldives and Stra...</td>\n",
       "      <td>https://warontherocks.com/2025/07/small-state-...</td>\n",
       "      <td>Mon, 14 Jul 2025 07:15:02 +0000</td>\n",
       "      <td>&lt;p&gt;Located at the crossroads of vital Indian O...</td>\n",
       "      <td>WaronTheRocks</td>\n",
       "      <td>Small State, Big Stakes: The Maldives and Stra...</td>\n",
       "    </tr>\n",
       "    <tr>\n",
       "      <th>2</th>\n",
       "      <td>Toward a New Grand Design? Reviving Sully’s Le...</td>\n",
       "      <td>https://warontherocks.com/2025/07/toward-a-new...</td>\n",
       "      <td>Fri, 11 Jul 2025 07:30:53 +0000</td>\n",
       "      <td>&lt;p&gt;Editor&amp;#8217;s Note: This is part of a runn...</td>\n",
       "      <td>WaronTheRocks</td>\n",
       "      <td>Toward a New Grand Design? Reviving Sully’s Le...</td>\n",
       "    </tr>\n",
       "    <tr>\n",
       "      <th>3</th>\n",
       "      <td>Consequences Unfold</td>\n",
       "      <td>https://warontherocks.com/2025/07/consequences...</td>\n",
       "      <td>Thu, 10 Jul 2025 17:30:57 +0000</td>\n",
       "      <td>&lt;p&gt;Welcome to The Adversarial.&amp;#160;Every othe...</td>\n",
       "      <td>WaronTheRocks</td>\n",
       "      <td>Consequences Unfold &lt;p&gt;Welcome to The Adversar...</td>\n",
       "    </tr>\n",
       "    <tr>\n",
       "      <th>4</th>\n",
       "      <td>China’s Mineral Monopoly Demands Renewing the ...</td>\n",
       "      <td>https://warontherocks.com/2025/07/chinas-miner...</td>\n",
       "      <td>Thu, 10 Jul 2025 07:30:26 +0000</td>\n",
       "      <td>&lt;p&gt;American auto manufacturers are preparing t...</td>\n",
       "      <td>WaronTheRocks</td>\n",
       "      <td>China’s Mineral Monopoly Demands Renewing the ...</td>\n",
       "    </tr>\n",
       "    <tr>\n",
       "      <th>...</th>\n",
       "      <td>...</td>\n",
       "      <td>...</td>\n",
       "      <td>...</td>\n",
       "      <td>...</td>\n",
       "      <td>...</td>\n",
       "      <td>...</td>\n",
       "    </tr>\n",
       "    <tr>\n",
       "      <th>343</th>\n",
       "      <td>Trump defends attorney general as Maga base fu...</td>\n",
       "      <td>https://www.theguardian.com/us-news/live/2025/...</td>\n",
       "      <td>Mon, 14 Jul 2025 15:53:21 GMT</td>\n",
       "      <td>&lt;p&gt;Trump signals backing for Pam Bondi amid ca...</td>\n",
       "      <td>TheGuardian</td>\n",
       "      <td>Trump defends attorney general as Maga base fu...</td>\n",
       "    </tr>\n",
       "    <tr>\n",
       "      <th>344</th>\n",
       "      <td>Arizona resident dies from pneumonic plague, h...</td>\n",
       "      <td>https://www.theguardian.com/us-news/2025/jul/1...</td>\n",
       "      <td>Mon, 14 Jul 2025 15:34:07 GMT</td>\n",
       "      <td>&lt;p&gt;Death marks first recorded plague death in ...</td>\n",
       "      <td>TheGuardian</td>\n",
       "      <td>Arizona resident dies from pneumonic plague, h...</td>\n",
       "    </tr>\n",
       "    <tr>\n",
       "      <th>345</th>\n",
       "      <td>Coroner identifies suspect who police say shot...</td>\n",
       "      <td>https://www.theguardian.com/us-news/2025/jul/1...</td>\n",
       "      <td>Mon, 14 Jul 2025 14:45:11 GMT</td>\n",
       "      <td>&lt;p&gt;Suspect, who was shot by police and pronoun...</td>\n",
       "      <td>TheGuardian</td>\n",
       "      <td>Coroner identifies suspect who police say shot...</td>\n",
       "    </tr>\n",
       "    <tr>\n",
       "      <th>346</th>\n",
       "      <td>US man gets life for beheading father as polit...</td>\n",
       "      <td>https://www.theguardian.com/us-news/2025/jul/1...</td>\n",
       "      <td>Mon, 14 Jul 2025 14:09:16 GMT</td>\n",
       "      <td>&lt;p&gt;Pennsylvania man called for execution of ot...</td>\n",
       "      <td>TheGuardian</td>\n",
       "      <td>US man gets life for beheading father as polit...</td>\n",
       "    </tr>\n",
       "    <tr>\n",
       "      <th>347</th>\n",
       "      <td>Trump encounters rare uproar from ardent right...</td>\n",
       "      <td>https://www.theguardian.com/us-news/2025/jul/1...</td>\n",
       "      <td>Mon, 14 Jul 2025 13:39:35 GMT</td>\n",
       "      <td>&lt;p&gt;White House claim it didn’t have list of Ep...</td>\n",
       "      <td>TheGuardian</td>\n",
       "      <td>Trump encounters rare uproar from ardent right...</td>\n",
       "    </tr>\n",
       "  </tbody>\n",
       "</table>\n",
       "<p>348 rows × 6 columns</p>\n",
       "</div>"
      ],
      "text/plain": [
       "                                                 title  \\\n",
       "0                         How Iran Overplayed its Hand   \n",
       "1    Small State, Big Stakes: The Maldives and Stra...   \n",
       "2    Toward a New Grand Design? Reviving Sully’s Le...   \n",
       "3                                  Consequences Unfold   \n",
       "4    China’s Mineral Monopoly Demands Renewing the ...   \n",
       "..                                                 ...   \n",
       "343  Trump defends attorney general as Maga base fu...   \n",
       "344  Arizona resident dies from pneumonic plague, h...   \n",
       "345  Coroner identifies suspect who police say shot...   \n",
       "346  US man gets life for beheading father as polit...   \n",
       "347  Trump encounters rare uproar from ardent right...   \n",
       "\n",
       "                                                  link  \\\n",
       "0    https://warontherocks.com/2025/07/how-iran-ove...   \n",
       "1    https://warontherocks.com/2025/07/small-state-...   \n",
       "2    https://warontherocks.com/2025/07/toward-a-new...   \n",
       "3    https://warontherocks.com/2025/07/consequences...   \n",
       "4    https://warontherocks.com/2025/07/chinas-miner...   \n",
       "..                                                 ...   \n",
       "343  https://www.theguardian.com/us-news/live/2025/...   \n",
       "344  https://www.theguardian.com/us-news/2025/jul/1...   \n",
       "345  https://www.theguardian.com/us-news/2025/jul/1...   \n",
       "346  https://www.theguardian.com/us-news/2025/jul/1...   \n",
       "347  https://www.theguardian.com/us-news/2025/jul/1...   \n",
       "\n",
       "                           published  \\\n",
       "0    Mon, 14 Jul 2025 07:30:27 +0000   \n",
       "1    Mon, 14 Jul 2025 07:15:02 +0000   \n",
       "2    Fri, 11 Jul 2025 07:30:53 +0000   \n",
       "3    Thu, 10 Jul 2025 17:30:57 +0000   \n",
       "4    Thu, 10 Jul 2025 07:30:26 +0000   \n",
       "..                               ...   \n",
       "343    Mon, 14 Jul 2025 15:53:21 GMT   \n",
       "344    Mon, 14 Jul 2025 15:34:07 GMT   \n",
       "345    Mon, 14 Jul 2025 14:45:11 GMT   \n",
       "346    Mon, 14 Jul 2025 14:09:16 GMT   \n",
       "347    Mon, 14 Jul 2025 13:39:35 GMT   \n",
       "\n",
       "                                               summary         source  \\\n",
       "0    <p>After Israel struck Iran&#8217;s nuclear fa...  WaronTheRocks   \n",
       "1    <p>Located at the crossroads of vital Indian O...  WaronTheRocks   \n",
       "2    <p>Editor&#8217;s Note: This is part of a runn...  WaronTheRocks   \n",
       "3    <p>Welcome to The Adversarial.&#160;Every othe...  WaronTheRocks   \n",
       "4    <p>American auto manufacturers are preparing t...  WaronTheRocks   \n",
       "..                                                 ...            ...   \n",
       "343  <p>Trump signals backing for Pam Bondi amid ca...    TheGuardian   \n",
       "344  <p>Death marks first recorded plague death in ...    TheGuardian   \n",
       "345  <p>Suspect, who was shot by police and pronoun...    TheGuardian   \n",
       "346  <p>Pennsylvania man called for execution of ot...    TheGuardian   \n",
       "347  <p>White House claim it didn’t have list of Ep...    TheGuardian   \n",
       "\n",
       "                                                  text  \n",
       "0    How Iran Overplayed its Hand <p>After Israel s...  \n",
       "1    Small State, Big Stakes: The Maldives and Stra...  \n",
       "2    Toward a New Grand Design? Reviving Sully’s Le...  \n",
       "3    Consequences Unfold <p>Welcome to The Adversar...  \n",
       "4    China’s Mineral Monopoly Demands Renewing the ...  \n",
       "..                                                 ...  \n",
       "343  Trump defends attorney general as Maga base fu...  \n",
       "344  Arizona resident dies from pneumonic plague, h...  \n",
       "345  Coroner identifies suspect who police say shot...  \n",
       "346  US man gets life for beheading father as polit...  \n",
       "347  Trump encounters rare uproar from ardent right...  \n",
       "\n",
       "[348 rows x 6 columns]"
      ]
     },
     "execution_count": 6,
     "metadata": {},
     "output_type": "execute_result"
    }
   ],
   "source": [
    "df = pd.read_csv(\"../data/raw_rss.csv\")\n",
    "df"
   ]
  },
  {
   "cell_type": "code",
   "execution_count": 8,
   "id": "703e2b44",
   "metadata": {},
   "outputs": [],
   "source": [
    "def classify_text(text: str) -> str:\n",
    "    text = text.lower()\n",
    "    if re.search(r\"\\b(attack|strike|shelling|airstrike|drone strike|hit|bombing|assault)\\b\", text):\n",
    "        return \"attack\"\n",
    "    elif re.search(r\"\\b(missile|bomb|escalation|launch|explosion|detonation)\\b\", text):\n",
    "        return \"escalation\"\n",
    "    elif re.search(r\"\\b(sanction|ban|restriction|embargo)\\b\", text):\n",
    "        return \"sanction\"\n",
    "    elif re.search(r\"\\b(delivery|shipment|supply|send|transport|equipment)\\b\", text):\n",
    "        return \"supply\"\n",
    "    elif re.search(r\"\\b(incident|tension|conflict|clash|aggression|violation|provocation)\\b\", text):\n",
    "        return \"incident\"\n",
    "    else:\n",
    "        return \"other\"\n",
    "\n",
    "df[\"Tag\"] = df[\"text\"].apply(classify_text)\n"
   ]
  },
  {
   "cell_type": "code",
   "execution_count": 9,
   "id": "ade9c5a0",
   "metadata": {},
   "outputs": [
    {
     "data": {
      "application/vnd.microsoft.datawrangler.viewer.v0+json": {
       "columns": [
        {
         "name": "Tag",
         "rawType": "object",
         "type": "string"
        },
        {
         "name": "count",
         "rawType": "int64",
         "type": "integer"
        }
       ],
       "ref": "ff50cbf9-490f-4392-9d3e-766b2a9c9ab1",
       "rows": [
        [
         "other",
         "293"
        ],
        [
         "attack",
         "20"
        ],
        [
         "escalation",
         "15"
        ],
        [
         "supply",
         "10"
        ],
        [
         "incident",
         "9"
        ],
        [
         "sanction",
         "1"
        ]
       ],
       "shape": {
        "columns": 1,
        "rows": 6
       }
      },
      "text/plain": [
       "Tag\n",
       "other         293\n",
       "attack         20\n",
       "escalation     15\n",
       "supply         10\n",
       "incident        9\n",
       "sanction        1\n",
       "Name: count, dtype: int64"
      ]
     },
     "execution_count": 9,
     "metadata": {},
     "output_type": "execute_result"
    }
   ],
   "source": [
    "df[\"Tag\"].value_counts()"
   ]
  },
  {
   "cell_type": "code",
   "execution_count": 11,
   "id": "684467e8",
   "metadata": {},
   "outputs": [],
   "source": [
    "df.to_csv(\"../data/tagged_balanced.csv\", index=False)"
   ]
  }
 ],
 "metadata": {
  "kernelspec": {
   "display_name": "ml_env",
   "language": "python",
   "name": "python3"
  },
  "language_info": {
   "codemirror_mode": {
    "name": "ipython",
    "version": 3
   },
   "file_extension": ".py",
   "mimetype": "text/x-python",
   "name": "python",
   "nbconvert_exporter": "python",
   "pygments_lexer": "ipython3",
   "version": "3.10.18"
  }
 },
 "nbformat": 4,
 "nbformat_minor": 5
}
